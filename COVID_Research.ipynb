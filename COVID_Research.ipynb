{
 "cells": [
  {
   "cell_type": "markdown",
   "metadata": {},
   "source": [
    "# Исследование штаммов коронавируса."
   ]
  },
  {
   "cell_type": "markdown",
   "metadata": {},
   "source": [
    "## 1. Введение.\n",
    "\n",
    "В интернете существует популярная конспирологическая теория о том, что нынешняя эпидемия коронавируса `COVID-19` (в научной терминологии `SARS-CoV-2`) - дело человеческих рук. Причина: первые вспышки этого вируса зарегистрированы в городе Ухани, где расположен Институт вирусологии, как раз занимавшийся исследованием коронавируса и создававший некоторые его гибридные формы. Поэтому распространилось мнение, что коронавирус является специально созданным биологическим оружием! Постараемся проверить этот миф.\n",
    "\n",
    "### Гипотеза.\n",
    "\n",
    "**Гипотеза** $H_0:$ `SARS-CoV-2` - это вирус, созданный искусственно и затем мутировавший. Предположительно - сбежавший (или выпущенный) из лаборатории Института вирусологии Уханя вирус `SHC014-MA15`, который был там создан путем замены гена, кодирующего шиповидный белок вируса `SARS Coronavirus MA15`, на аналогичный ген из `RsSHC014-COV`.\n",
    "\n",
    "### Цель.\n",
    "\n",
    "В данном исследовании я постараюсь опровергнуть эту гипотезу, доказав, что, по всей видимости, `COVID-19` имеет естесственное происхождение, мутировав из видов, паразитирующих на летучих мышах. В качестве основы исследования я возьму [статью Александра Панчина](https://vk.com/scinquisitor?w=wall187756_253565), самостоятельно проведя упомянутые в ней эксперименты и дополнив собственными.\n",
    "\n",
    "### Методика исследования.\n",
    "\n",
    "Основными методами данного исследования будет сравнения различных штаммов коронавируса, как ДНК-последовательностей. Это позволит оценивать степень родства и схожесть геномов, находить участки генома, по которым штаммы различаются сильнее всего, а также построить филогенетическое дерево.\n",
    "\n",
    "### Материалы.\n",
    "\n",
    "Используемые данные загружены с сайта [NCBI](https://www.ncbi.nlm.nih.gov/genbank/sars-cov-2-seqs/#nucleotide-sequences) в формате `fasta`. Я буду исследовать как полные геномы (в формате `DNAbin`), так и отдельные протеины (в формате `AAbin`). Для построения филогенетического дерева все загруженные геномы (несколько десятков) собраны в один файл `common.fasta`; помимо этого, некоторым участкам генома определенных штаммов будет уделено особенное внимание, поэтому они записаны в отдельные файлы."
   ]
  },
  {
   "cell_type": "markdown",
   "metadata": {},
   "source": [
    "## 2. План исследования."
   ]
  },
  {
   "cell_type": "markdown",
   "metadata": {},
   "source": [
    "* Подробно сравним следующие четыре штамма: `SARS Coronavirus MA15` (штамм JF292920), `RaTG13` (эти два взяты у летучих мышей в 2014 и 2013 годах соответственно), `RsSHC014-COV`(его носителями также являются летучие мыши) и современный `COVID-19` (я рассмотрел штамм `MT019529`, один из самых ранних найденных в Ухани в декабре 2019 г.). Отсюда узнаем и степень их сходства с лабораторно созданным `SHC014-MA15` (полученный заменой гена, кодирующего шиповидный белок вируса `SARS Coronavirus MA15`, на аналогичный ген из `RsSHC014-COV`.)\n",
    "\n",
    "* Исследуем их сходство на основе полных геномов, а также, повторяя эксперименты А. Панчина, полипротеина `1ab` и шиповидного белка (последний особенно важен, учитывая природу создания `SHC014-MA15`).\n",
    "\n",
    "* На основе этого продемонстрируем, что современный коронавирус по строению генома гораздо ближе к `RaTG13`, чем к остальным двум видам. Это позволит отвергнуть гипотезу о его происхождении `SHC014-MA15`, а если к тому же сходство с `RaTG13` окажется большим, показать, что он, вероятно, мутировал от вирусов летучих мышей и вряд ли вообще имеет какое-либо искусственное происхождение.\n",
    "\n",
    "* Построим также филогенетическое дерево по геномам большого числа различных штаммов, включая выше упомянутые четыре. Это, предположительно, позволит продемонстрировать большое сходство всех штаммов современного коронавируса из разных стран и дополнительно подтвердит полученные ранее выводы.\n",
    "\n",
    "* Исследуем, какие участки генетического кода у штаммов менялись чаще всего и визуализируем эти данные."
   ]
  },
  {
   "cell_type": "markdown",
   "metadata": {},
   "source": [
    "## 3. Демонстрация работы основных методов исследования в языке R на небольших искусственных примерах."
   ]
  },
  {
   "cell_type": "code",
   "execution_count": 2,
   "metadata": {},
   "outputs": [],
   "source": [
    "library(\"igraph\")\n",
    "library(\"ggtree\")\n",
    "library(\"phangorn\")\n",
    "library(\"treeio\")\n",
    "library(\"Biostrings\")\n",
    "library(\"msa\")\n",
    "library(\"ape\")\n",
    "library(\"insect\")"
   ]
  },
  {
   "cell_type": "markdown",
   "metadata": {},
   "source": [
    "### 3.1. Выравнивание нуклеотидных последовательностей."
   ]
  },
  {
   "cell_type": "markdown",
   "metadata": {},
   "source": [
    "Для сравнения участков генома разных штаммов необходимо, чтобы они были одинаковой длины. При этом и участки, отвечающие за конкретный белок, и полные геномы совершенно необязательно будут иметь одну длину. Нужен инструмент, который позволит выровнять набор нуклеотидные последовательностей, дополнив их (знаками пропуска) до одной длины, причем так, чтобы положение соответствующих участков совпадало. В языке **R** это можно сделать с помощью следующего кода:"
   ]
  },
  {
   "cell_type": "markdown",
   "metadata": {},
   "source": [
    "\n",
    "```python\n",
    "fasta_data <- read.fasta(\"common.fasta\")\n",
    "l <- c(dna2char(fasta_data[1]))\n",
    "for (i in 2:16) {\n",
    "    l <- rbind(l, c(dna2char(fasta_data[i])))\n",
    "}\n",
    "# Привели формат DNAbin (набор ДНК-последовательностей) \n",
    "# к списку из этих последовательностей в формате dna2char\n",
    "string.set <- DNAStringSet(l)\n",
    "string.set <- msa(string.set)\n",
    "fasta_data <- as.DNAbin(string.set)\n",
    "```"
   ]
  },
  {
   "cell_type": "markdown",
   "metadata": {},
   "source": [
    "Демонстрация работы на маленьких данных:"
   ]
  },
  {
   "cell_type": "code",
   "execution_count": 3,
   "metadata": {},
   "outputs": [
    {
     "name": "stdout",
     "output_type": "stream",
     "text": [
      "use default substitution matrix\n",
      "CLUSTAL 2.1  \n",
      "\n",
      "Call:\n",
      "   msa(string.set)\n",
      "\n",
      "MsaDNAMultipleAlignment with 5 rows and 14 columns\n",
      "    aln \n",
      "[1] -TTTAATAAGCAC-\n",
      "[2] -GTTAATAAG-AC-\n",
      "[3] TCTAAATAAGCAC-\n",
      "[4] TCCGAATAAGTAAA\n",
      "[5] -CCGAATCAGTA--\n",
      "Con -CT?AATAAG?AC- \n",
      "5 DNA sequences in binary format stored in a matrix.\n",
      "\n",
      "All sequences of same length: 14 \n",
      "\n",
      "Labels:\n",
      "\n",
      "Base composition:\n",
      "    a     c     g     t \n",
      "0.443 0.180 0.131 0.246 \n",
      "(Total: 70 bases)\n"
     ]
    }
   ],
   "source": [
    "Q1 <- as.DNAbin(c(\"T\",\"C\",\"C\",\"G\",\"A\",\"A\",\"T\",\"A\",\"A\",\"G\",\"T\",\"A\",\"A\",\"A\"))\n",
    "Q2 <- as.DNAbin(c(\"C\",\"C\",\"G\",\"A\",\"A\",\"T\",\"C\",\"A\",\"G\",\"T\",\"A\"))\n",
    "Q3 <- as.DNAbin(c(\"T\",\"C\",\"T\",\"A\",\"A\",\"A\",\"T\",\"A\",\"A\",\"G\",\"C\",\"A\",\"C\"))\n",
    "Q4 <- as.DNAbin(c(\"T\",\"T\",\"T\",\"A\",\"A\",\"T\",\"A\",\"A\",\"G\",\"C\",\"A\",\"C\"))\n",
    "Q5 <- as.DNAbin(c(\"G\",\"T\",\"T\",\"A\",\"A\",\"T\",\"A\",\"A\",\"G\",\"A\",\"C\"))\n",
    "l <- c(dna2char(Q1),dna2char(Q2),dna2char(Q3),dna2char(Q4),dna2char(Q5))\n",
    "string.set <- DNAStringSet(l)\n",
    "string.set <- msa(string.set)\n",
    "print(string.set)\n",
    "small.dnabin <- as.DNAbin(string.set)\n",
    "print(small.dnabin)"
   ]
  },
  {
   "cell_type": "markdown",
   "metadata": {},
   "source": [
    "Как видим, выравнивание корректно сработало, общие части последовательностей идут точно друг над другом."
   ]
  },
  {
   "cell_type": "markdown",
   "metadata": {},
   "source": [
    "Однако для выравнивания нескольких десятков последовательностей длины порядка $30000$ нуклеотидов у меня не достаточно вычислительной мощности (это займет слишком много времени), поэтому для получения того же результата воспользуемся онлайн-ресурсом [Clustal Omega](https://www.ebi.ac.uk/Tools/msa/clustalo/). Полученный в результате файл с выровненными ДНК-последовательностями назовем `common_msa.fasta`."
   ]
  },
  {
   "cell_type": "markdown",
   "metadata": {},
   "source": [
    "### 3.2. Филогенетическое дерево (игрушечный пример)."
   ]
  },
  {
   "cell_type": "markdown",
   "metadata": {},
   "source": [
    "Теперь построим филогенетического дерево по небольшому количеству маленьких ДНК-последовательностей одной длины, полученных в предыдущем пункте."
   ]
  },
  {
   "cell_type": "code",
   "execution_count": 4,
   "metadata": {},
   "outputs": [
    {
     "data": {
      "image/png": "[encoded data removed]",
      "text/plain": [
       "plot without title"
      ]
     },
     "metadata": {},
     "output_type": "display_data"
    }
   ],
   "source": [
    "phy.data <- as.phyDat(as.matrix(small.dnabin))\n",
    "tree <- nj(dist.ml(phy.data))\n",
    "ggtree(tree, lwd = 1, color = \"darkgreen\", alpha = 0.8, right = TRUE) +\n",
    "  geom_tiplab(size = 3, angle = 0, offset = 0.05, hjust = 3) +\n",
    "  geom_point(aes(shape = isTip, color = isTip), size = 5, alpha = 0.6)"
   ]
  },
  {
   "cell_type": "markdown",
   "metadata": {},
   "source": [
    "### 3.3 Простая функция сравнения DNA- и AA- последовательностей."
   ]
  },
  {
   "cell_type": "markdown",
   "metadata": {},
   "source": [
    "Реализуем функцию, позволяюшую сравнивать поэлементно нуклеотидные последовательности одной длины и возвращающую сходство в виде числа от $0$ до $1$."
   ]
  },
  {
   "cell_type": "code",
   "execution_count": 5,
   "metadata": {},
   "outputs": [],
   "source": [
    "element_wise.compare <- function(seq1,seq2){\n",
    "    mean(strsplit(as.character(seq1),\"\")[[1]] == \n",
    "       strsplit(as.character(seq2),\"\")[[1]])\n",
    "}"
   ]
  },
  {
   "cell_type": "code",
   "execution_count": 6,
   "metadata": {},
   "outputs": [
    {
     "data": {
      "text/html": [
       "0.714285714285714"
      ],
      "text/latex": [
       "0.714285714285714"
      ],
      "text/markdown": [
       "0.714285714285714"
      ],
      "text/plain": [
       "[1] 0.7142857"
      ]
     },
     "metadata": {},
     "output_type": "display_data"
    }
   ],
   "source": [
    "Q1 <- dna2char(as.DNAbin(c(\"T\",\"C\",\"C\",\"G\",\"A\",\"A\",\"T\",\"A\",\"A\",\"G\",\"T\",\"A\",\"A\",\"A\")))\n",
    "Q2 <- dna2char(as.DNAbin(c(\"-\",\"C\",\"C\",\"G\",\"A\",\"A\",\"T\",\"C\",\"A\",\"G\",\"T\",\"A\",\"-\",\"-\")))\n",
    "element_wise.compare(Q1, Q2)"
   ]
  },
  {
   "cell_type": "markdown",
   "metadata": {},
   "source": [
    "### 3.4 Сравнение последовательностей с визуализацией."
   ]
  },
  {
   "cell_type": "markdown",
   "metadata": {},
   "source": [
    "## 4. Основное исследование. Сравнение COVID-19, MA15, RaTG13 и RsSHC014-COV."
   ]
  },
  {
   "cell_type": "markdown",
   "metadata": {},
   "source": [
    "### Воспроизведение исследования А. Панчина."
   ]
  },
  {
   "cell_type": "markdown",
   "metadata": {},
   "source": [
    "Напомню: в данной части исследования рассматриваются вирусы: `SARS Coronavirus MA15` (штамм JF292920), `RaTG13` (эти два взяты у летучих мышей в 2014 и 2013 годах соответственно), `RsSHC014-COV` и современный `COVID-19` (я рассмотрел штамм `MT019529`, один из самых ранних найденных в Ухани в декабре 2019 г.)\n",
    "\n",
    "У них будем сравнивать шиповидный белок и полипротеин `1ab` (у некоторых вирусов он называется `1ab`, у других - `orf1ab`, но это разновидности одного и того же протеина. С шиповидном белком то же самое: есть названия `spike protein`, `surface glycoprotein`, `spike_glycoprotein_precursor`)."
   ]
  },
  {
   "cell_type": "markdown",
   "metadata": {},
   "source": [
    "У искусственно созданного `SHC014-MA15`, согласно статье 2015 года, с вирусом `RsSHC014-COV` совпадает шиповидный белок, а с вирусом `SARS Coronavirus MA15` - полипротеин `1ab` (и, видимо, весь геном кроме шиповидного белка)."
   ]
  },
  {
   "cell_type": "markdown",
   "metadata": {},
   "source": [
    "#### 4.1. Сравнение полипротеина 1ab."
   ]
  },
  {
   "cell_type": "markdown",
   "metadata": {},
   "source": [
    "Цель - показать, что полипротин `1ab` штамма `RaTG13` имеет гораздо большее сходство с соответствующим полипротеином у `COVID-19`, чем с `1ab` из коронавируса `MA15` и `RsSHC014`."
   ]
  },
  {
   "cell_type": "code",
   "execution_count": 7,
   "metadata": {},
   "outputs": [],
   "source": [
    "COVID_19.1ab <- read.fasta(\"MT019529_polyprotein_orf1ab.fasta\")\n",
    "RaTG13.1ab <- read.fasta(\"RaTG13_polyprotein_orf1ab.fasta\")\n",
    "MA15.1ab <- read.fasta(\"MA15_polyprotein_orf1ab.fasta\")\n",
    "RsSHC014.1ab <- read.fasta(\"RsSHC014_1ab.fasta\")"
   ]
  },
  {
   "cell_type": "code",
   "execution_count": 8,
   "metadata": {},
   "outputs": [
    {
     "data": {
      "text/plain": [
       "  A AAStringSet instance of length 4\n",
       "    width seq                                               names               \n",
       "[1]  7096 MESLVPGFNEKTHVQLSLPVLQV...SKGRLIIRENNRVVISSDVLVNN QHU36823.1 orf1ab...\n",
       "[2]  7095 MESLVPGFNEKTHVQLSLPVLQV...SKGRLIIRENNRVVISSDVLVNN QHR63299.1 orf1ab...\n",
       "[3]  7073 MESLVLGVNEKTHVQLSLPVLQV...EKGRLIIRENNRVVVSSDILVNN AEA10982.1 polypr...\n",
       "[4]  7073 MESLVLGVNEKTHVQLSLPVLQV...EKGRLIIRESNKVVVSSDILVNI AGZ48805.1 non-st..."
      ]
     },
     "metadata": {},
     "output_type": "display_data"
    }
   ],
   "source": [
    "string.set <- AAStringSet(c(toupper(aa2char(COVID_19.1ab)),\n",
    "                     toupper(aa2char(RaTG13.1ab)),\n",
    "                     toupper(aa2char(MA15.1ab)),\n",
    "                     toupper(aa2char(RsSHC014.1ab))))\n",
    "string.set"
   ]
  },
  {
   "cell_type": "markdown",
   "metadata": {},
   "source": [
    "Выравнивание:"
   ]
  },
  {
   "cell_type": "code",
   "execution_count": 9,
   "metadata": {},
   "outputs": [
    {
     "name": "stdout",
     "output_type": "stream",
     "text": [
      "use default substitution matrix\n"
     ]
    },
    {
     "data": {
      "text/plain": [
       "  A AAStringSet instance of length 4\n",
       "    width seq                                               names               \n",
       "[1]  7100 MESLVPGFNEKTHVQLSLPVLQV...SKGRLIIRENNRVVISSDVLVNN QHU36823.1 orf1ab...\n",
       "[2]  7100 MESLVPGFNEKTHVQLSLPVLQV...SKGRLIIRENNRVVISSDVLVNN QHR63299.1 orf1ab...\n",
       "[3]  7100 MESLVLGVNEKTHVQLSLPVLQV...EKGRLIIRENNRVVVSSDILVNN AEA10982.1 polypr...\n",
       "[4]  7100 MESLVLGVNEKTHVQLSLPVLQV...EKGRLIIRESNKVVVSSDILVNI AGZ48805.1 non-st..."
      ]
     },
     "metadata": {},
     "output_type": "display_data"
    }
   ],
   "source": [
    "string.set <- AAStringSet(msa(string.set))\n",
    "string.set"
   ]
  },
  {
   "cell_type": "code",
   "execution_count": 10,
   "metadata": {},
   "outputs": [
    {
     "data": {
      "text/html": [
       "'Сходство полипротеина 1ab для COVID-19 и RaTG13:'"
      ],
      "text/latex": [
       "'Сходство полипротеина 1ab для COVID-19 и RaTG13:'"
      ],
      "text/markdown": [
       "'Сходство полипротеина 1ab для COVID-19 и RaTG13:'"
      ],
      "text/plain": [
       "[1] \"Сходство полипротеина 1ab для COVID-19 и RaTG13:\""
      ]
     },
     "metadata": {},
     "output_type": "display_data"
    },
    {
     "data": {
      "text/html": [
       "0.985211267605634"
      ],
      "text/latex": [
       "0.985211267605634"
      ],
      "text/markdown": [
       "0.985211267605634"
      ],
      "text/plain": [
       "[1] 0.9852113"
      ]
     },
     "metadata": {},
     "output_type": "display_data"
    },
    {
     "data": {
      "text/html": [
       "'Сходство полипротеина 1ab для COVID-19 и MA15:'"
      ],
      "text/latex": [
       "'Сходство полипротеина 1ab для COVID-19 и MA15:'"
      ],
      "text/markdown": [
       "'Сходство полипротеина 1ab для COVID-19 и MA15:'"
      ],
      "text/plain": [
       "[1] \"Сходство полипротеина 1ab для COVID-19 и MA15:\""
      ]
     },
     "metadata": {},
     "output_type": "display_data"
    },
    {
     "data": {
      "text/html": [
       "0.860422535211268"
      ],
      "text/latex": [
       "0.860422535211268"
      ],
      "text/markdown": [
       "0.860422535211268"
      ],
      "text/plain": [
       "[1] 0.8604225"
      ]
     },
     "metadata": {},
     "output_type": "display_data"
    },
    {
     "data": {
      "text/html": [
       "'Сходство полипротеина 1ab для COVID-19 и RsSHC014:'"
      ],
      "text/latex": [
       "'Сходство полипротеина 1ab для COVID-19 и RsSHC014:'"
      ],
      "text/markdown": [
       "'Сходство полипротеина 1ab для COVID-19 и RsSHC014:'"
      ],
      "text/plain": [
       "[1] \"Сходство полипротеина 1ab для COVID-19 и RsSHC014:\""
      ]
     },
     "metadata": {},
     "output_type": "display_data"
    },
    {
     "data": {
      "text/html": [
       "0.86056338028169"
      ],
      "text/latex": [
       "0.86056338028169"
      ],
      "text/markdown": [
       "0.86056338028169"
      ],
      "text/plain": [
       "[1] 0.8605634"
      ]
     },
     "metadata": {},
     "output_type": "display_data"
    },
    {
     "data": {
      "text/html": [
       "'Сходство полипротеина 1ab для RaTG13 и MA15:'"
      ],
      "text/latex": [
       "'Сходство полипротеина 1ab для RaTG13 и MA15:'"
      ],
      "text/markdown": [
       "'Сходство полипротеина 1ab для RaTG13 и MA15:'"
      ],
      "text/plain": [
       "[1] \"Сходство полипротеина 1ab для RaTG13 и MA15:\""
      ]
     },
     "metadata": {},
     "output_type": "display_data"
    },
    {
     "data": {
      "text/html": [
       "0.859577464788732"
      ],
      "text/latex": [
       "0.859577464788732"
      ],
      "text/markdown": [
       "0.859577464788732"
      ],
      "text/plain": [
       "[1] 0.8595775"
      ]
     },
     "metadata": {},
     "output_type": "display_data"
    },
    {
     "data": {
      "text/html": [
       "'Сходство полипротеина 1ab для MA15 и RsSHC014:'"
      ],
      "text/latex": [
       "'Сходство полипротеина 1ab для MA15 и RsSHC014:'"
      ],
      "text/markdown": [
       "'Сходство полипротеина 1ab для MA15 и RsSHC014:'"
      ],
      "text/plain": [
       "[1] \"Сходство полипротеина 1ab для MA15 и RsSHC014:\""
      ]
     },
     "metadata": {},
     "output_type": "display_data"
    },
    {
     "data": {
      "text/html": [
       "0.859295774647887"
      ],
      "text/latex": [
       "0.859295774647887"
      ],
      "text/markdown": [
       "0.859295774647887"
      ],
      "text/plain": [
       "[1] 0.8592958"
      ]
     },
     "metadata": {},
     "output_type": "display_data"
    },
    {
     "data": {
      "text/html": [
       "'Сходство полипротеина 1ab для MA15 и RsSHC014:'"
      ],
      "text/latex": [
       "'Сходство полипротеина 1ab для MA15 и RsSHC014:'"
      ],
      "text/markdown": [
       "'Сходство полипротеина 1ab для MA15 и RsSHC014:'"
      ],
      "text/plain": [
       "[1] \"Сходство полипротеина 1ab для MA15 и RsSHC014:\""
      ]
     },
     "metadata": {},
     "output_type": "display_data"
    },
    {
     "data": {
      "text/html": [
       "0.984507042253521"
      ],
      "text/latex": [
       "0.984507042253521"
      ],
      "text/markdown": [
       "0.984507042253521"
      ],
      "text/plain": [
       "[1] 0.984507"
      ]
     },
     "metadata": {},
     "output_type": "display_data"
    }
   ],
   "source": [
    "\"Сходство полипротеина 1ab для COVID-19 и RaTG13:\"\n",
    "element_wise.compare(string.set[1],string.set[2])\n",
    "\"Сходство полипротеина 1ab для COVID-19 и MA15:\"\n",
    "element_wise.compare(string.set[1],string.set[3])\n",
    "\"Сходство полипротеина 1ab для COVID-19 и RsSHC014:\"\n",
    "element_wise.compare(string.set[1],string.set[4])\n",
    "\"Сходство полипротеина 1ab для RaTG13 и MA15:\"\n",
    "element_wise.compare(string.set[2],string.set[3])\n",
    "\"Сходство полипротеина 1ab для MA15 и RsSHC014:\"\n",
    "element_wise.compare(string.set[2],string.set[4])\n",
    "\"Сходство полипротеина 1ab для MA15 и RsSHC014:\"\n",
    "element_wise.compare(string.set[3],string.set[4])"
   ]
  },
  {
   "cell_type": "markdown",
   "metadata": {},
   "source": [
    "Сходство действительно примерно такое, как заявлено в статье А.Панчина (числа отличаются в пределах $0.01\\%$, но, видимо, я и А. Панчин просто рассмотрели разные штаммы `COVID-19`, которые многочисленны, но очень похожи между собой с точки зрения конкретных протеинов, в т.ч. `1ab`.)"
   ]
  },
  {
   "cell_type": "markdown",
   "metadata": {},
   "source": [
    "Таким образом, ген, отвечающий протеину `1ab`, у вируса `SARS Coronavirus MA15` (а значит, и у созданного на его основе вируса `SHC014-MA15`) гораздо сильнее отличается от современного `COVID-19`, чем у `RsSHC014-COV`, взятого у летучих мышей не позднее 2014 года. А вот у `RaTG13` этот белок, в отличие от двух остальных рассмотренных, очень похож на тот же белок современного коронавируса."
   ]
  },
  {
   "cell_type": "markdown",
   "metadata": {},
   "source": [
    "#### 4.2. Сравнение шиповидного белка."
   ]
  },
  {
   "cell_type": "markdown",
   "metadata": {},
   "source": [
    "Теперь воспроизведем аналогичный анализ для шиповидного белка."
   ]
  },
  {
   "cell_type": "code",
   "execution_count": 11,
   "metadata": {},
   "outputs": [],
   "source": [
    "COVID_19.spike <- read.fasta(\"MT019529_surface_glycoprotein.fasta\")\n",
    "RaTG13.spike <- read.fasta(\"RaTG13_spike_glycoprotein.fasta\")\n",
    "MA15.spike <- read.fasta(\"MA15-COV_spike_glycoprotein_precursor.fasta\")\n",
    "RsSHC014.spike <- read.fasta(\"RsSHC014_spike_protein.fasta\")"
   ]
  },
  {
   "cell_type": "code",
   "execution_count": 12,
   "metadata": {},
   "outputs": [
    {
     "data": {
      "text/plain": [
       "  A AAStringSet instance of length 4\n",
       "    width seq                                               names               \n",
       "[1]  1273 MFVFLVLLPLVSSQCVNLTTRTQ...GSCCKFDEDDSEPVLKGVKLHYT QHU36824.1 surfac...\n",
       "[2]  1269 MFVFLVLLPLVSSQCVNLTTRTQ...GSCCKFDEDDSEPVLKGVKLHYT QHR63300.2 spike ...\n",
       "[3]  1255 MFIFLLFLTLTSGSDLDRCTTFD...GSCCKFDEDDSEPVLKGVKLHYT AEA10983.1 spike ...\n",
       "[4]  1256 MKLLVLVFATLVSSYTIEKCLDF...GSCCKFDEDDSEPVLKGVKLHYT AGZ48806.1 spike ..."
      ]
     },
     "metadata": {},
     "output_type": "display_data"
    }
   ],
   "source": [
    "string.set <- AAStringSet(c(toupper(aa2char(COVID_19.spike)),\n",
    "                     toupper(aa2char(RaTG13.spike)),\n",
    "                     toupper(aa2char(MA15.spike)),\n",
    "                     toupper(aa2char(RsSHC014.spike))))\n",
    "string.set"
   ]
  },
  {
   "cell_type": "code",
   "execution_count": 13,
   "metadata": {},
   "outputs": [
    {
     "name": "stdout",
     "output_type": "stream",
     "text": [
      "use default substitution matrix\n"
     ]
    },
    {
     "data": {
      "text/plain": [
       "  A AAStringSet instance of length 4\n",
       "    width seq                                               names               \n",
       "[1]  1278 -MFIFLLFLTLTSGSDLDRCTTF...GSCCKFDEDDSEPVLKGVKLHYT AEA10983.1 spike ...\n",
       "[2]  1278 MKLLVLVFATLVSSYTIEKCLDF...GSCCKFDEDDSEPVLKGVKLHYT AGZ48806.1 spike ...\n",
       "[3]  1278 -MFVFLVLLPLVSS----QCVNL...GSCCKFDEDDSEPVLKGVKLHYT QHU36824.1 surfac...\n",
       "[4]  1278 -MFVFLVLLPLVSS----QCVNL...GSCCKFDEDDSEPVLKGVKLHYT QHR63300.2 spike ..."
      ]
     },
     "metadata": {},
     "output_type": "display_data"
    }
   ],
   "source": [
    "string.set <- AAStringSet(msa(string.set))\n",
    "string.set"
   ]
  },
  {
   "cell_type": "code",
   "execution_count": 14,
   "metadata": {},
   "outputs": [
    {
     "data": {
      "text/html": [
       "'Сходство шиповидного белка для COVID-19 и RaTG13:'"
      ],
      "text/latex": [
       "'Сходство шиповидного белка для COVID-19 и RaTG13:'"
      ],
      "text/markdown": [
       "'Сходство шиповидного белка для COVID-19 и RaTG13:'"
      ],
      "text/plain": [
       "[1] \"Сходство шиповидного белка для COVID-19 и RaTG13:\""
      ]
     },
     "metadata": {},
     "output_type": "display_data"
    },
    {
     "data": {
      "text/html": [
       "0.900625978090767"
      ],
      "text/latex": [
       "0.900625978090767"
      ],
      "text/markdown": [
       "0.900625978090767"
      ],
      "text/plain": [
       "[1] 0.900626"
      ]
     },
     "metadata": {},
     "output_type": "display_data"
    },
    {
     "data": {
      "text/html": [
       "'Сходство шиповидного белка для COVID-19 и MA15:'"
      ],
      "text/latex": [
       "'Сходство шиповидного белка для COVID-19 и MA15:'"
      ],
      "text/markdown": [
       "'Сходство шиповидного белка для COVID-19 и MA15:'"
      ],
      "text/plain": [
       "[1] \"Сходство шиповидного белка для COVID-19 и MA15:\""
      ]
     },
     "metadata": {},
     "output_type": "display_data"
    },
    {
     "data": {
      "text/html": [
       "0.756651017214398"
      ],
      "text/latex": [
       "0.756651017214398"
      ],
      "text/markdown": [
       "0.756651017214398"
      ],
      "text/plain": [
       "[1] 0.756651"
      ]
     },
     "metadata": {},
     "output_type": "display_data"
    },
    {
     "data": {
      "text/html": [
       "'Сходство шиповидного белка для COVID-19 и RsSHC014:'"
      ],
      "text/latex": [
       "'Сходство шиповидного белка для COVID-19 и RsSHC014:'"
      ],
      "text/markdown": [
       "'Сходство шиповидного белка для COVID-19 и RsSHC014:'"
      ],
      "text/plain": [
       "[1] \"Сходство шиповидного белка для COVID-19 и RsSHC014:\""
      ]
     },
     "metadata": {},
     "output_type": "display_data"
    },
    {
     "data": {
      "text/html": [
       "0.764475743348983"
      ],
      "text/latex": [
       "0.764475743348983"
      ],
      "text/markdown": [
       "0.764475743348983"
      ],
      "text/plain": [
       "[1] 0.7644757"
      ]
     },
     "metadata": {},
     "output_type": "display_data"
    },
    {
     "data": {
      "text/html": [
       "'Сходство шиповидного белка для RaTG13 и MA15:'"
      ],
      "text/latex": [
       "'Сходство шиповидного белка для RaTG13 и MA15:'"
      ],
      "text/markdown": [
       "'Сходство шиповидного белка для RaTG13 и MA15:'"
      ],
      "text/plain": [
       "[1] \"Сходство шиповидного белка для RaTG13 и MA15:\""
      ]
     },
     "metadata": {},
     "output_type": "display_data"
    },
    {
     "data": {
      "text/html": [
       "0.766823161189358"
      ],
      "text/latex": [
       "0.766823161189358"
      ],
      "text/markdown": [
       "0.766823161189358"
      ],
      "text/plain": [
       "[1] 0.7668232"
      ]
     },
     "metadata": {},
     "output_type": "display_data"
    },
    {
     "data": {
      "text/html": [
       "'Сходство шиповидного белка для MA15 и RsSHC014:'"
      ],
      "text/latex": [
       "'Сходство шиповидного белка для MA15 и RsSHC014:'"
      ],
      "text/markdown": [
       "'Сходство шиповидного белка для MA15 и RsSHC014:'"
      ],
      "text/plain": [
       "[1] \"Сходство шиповидного белка для MA15 и RsSHC014:\""
      ]
     },
     "metadata": {},
     "output_type": "display_data"
    },
    {
     "data": {
      "text/html": [
       "0.770735524256651"
      ],
      "text/latex": [
       "0.770735524256651"
      ],
      "text/markdown": [
       "0.770735524256651"
      ],
      "text/plain": [
       "[1] 0.7707355"
      ]
     },
     "metadata": {},
     "output_type": "display_data"
    },
    {
     "data": {
      "text/html": [
       "'Сходство шиповидного белка для MA15 и RsSHC014:'"
      ],
      "text/latex": [
       "'Сходство шиповидного белка для MA15 и RsSHC014:'"
      ],
      "text/markdown": [
       "'Сходство шиповидного белка для MA15 и RsSHC014:'"
      ],
      "text/plain": [
       "[1] \"Сходство шиповидного белка для MA15 и RsSHC014:\""
      ]
     },
     "metadata": {},
     "output_type": "display_data"
    },
    {
     "data": {
      "text/html": [
       "0.974178403755869"
      ],
      "text/latex": [
       "0.974178403755869"
      ],
      "text/markdown": [
       "0.974178403755869"
      ],
      "text/plain": [
       "[1] 0.9741784"
      ]
     },
     "metadata": {},
     "output_type": "display_data"
    }
   ],
   "source": [
    "\"Сходство шиповидного белка для COVID-19 и RaTG13:\"\n",
    "element_wise.compare(string.set[1],string.set[2])\n",
    "\"Сходство шиповидного белка для COVID-19 и MA15:\"\n",
    "element_wise.compare(string.set[1],string.set[3])\n",
    "\"Сходство шиповидного белка для COVID-19 и RsSHC014:\"\n",
    "element_wise.compare(string.set[1],string.set[4])\n",
    "\"Сходство шиповидного белка для RaTG13 и MA15:\"\n",
    "element_wise.compare(string.set[2],string.set[3])\n",
    "\"Сходство шиповидного белка для MA15 и RsSHC014:\"\n",
    "element_wise.compare(string.set[2],string.set[4])\n",
    "\"Сходство шиповидного белка для MA15 и RsSHC014:\"\n",
    "element_wise.compare(string.set[3],string.set[4])"
   ]
  },
  {
   "cell_type": "markdown",
   "metadata": {},
   "source": [
    "Вывод: расчеты А. Панчина подтвердились, сходство шиповидного белка вирусов `MA15` и `RsSHC014` (следовательно, и `SHC014-MA15`) с современным коронавирусом ($75.66\\%$, $76.44\\%$ соответственно в данном эксперименте) почти такое же, как он пишет ($75.88\\%$, $77.31\\%$), разница связана с выбором конкретных штаммов. Сходство `MA15` и `RsSHC014` в данном эксперименте ($97.41\\%$) и у А. Панчина ($97.41\\%$) также совпало, даже с точностью до сотых процента."
   ]
  },
  {
   "cell_type": "markdown",
   "metadata": {},
   "source": [
    "### Мое добавление к исследованию: А. Панчина."
   ]
  },
  {
   "cell_type": "markdown",
   "metadata": {},
   "source": [
    "#### 4.3. Сравнение полных геномов."
   ]
  },
  {
   "cell_type": "code",
   "execution_count": 15,
   "metadata": {},
   "outputs": [],
   "source": [
    "COVID_19 <- read.fasta(\"MT019529_2019_12_23_China_Wuhan.fasta\")\n",
    "RaTG13 <- read.fasta(\"RaTG13.fasta\")\n",
    "MA15 <- read.fasta(\"MA15-COV.fasta\")\n",
    "RsSHC014 <- read.fasta(\"RsSHC014.fasta\")"
   ]
  },
  {
   "cell_type": "code",
   "execution_count": 16,
   "metadata": {},
   "outputs": [
    {
     "data": {
      "text/plain": [
       "  A AAStringSet instance of length 4\n",
       "    width seq                                               names               \n",
       "[1] 29899 ATTAAAGGTTTATACCTTCCCAG...AAAAAAAAAAAAAAAAAAAAAAA MT019529.1 Severe...\n",
       "[2] 29855 CTTTCCAGGTAACAAACCAACGA...GACAAAAAAAAAAAAAAAAAAAA MN996532.1 Bat co...\n",
       "[3] 29646 CGATCTCTTGTAGATCTGTTCTC...TGTGTAAAATTAATTTTAGTAGT JF292920.1 SARS c...\n",
       "[4] 29787 ATATTAGGTTTTTACCTACCCAG...ATGACAAAAAAAAAAAAAAAAAA KC881005.1 Bat SA..."
      ]
     },
     "metadata": {},
     "output_type": "display_data"
    }
   ],
   "source": [
    "string.set <- AAStringSet(c(toupper(dna2char(COVID_19)),\n",
    "                     toupper(dna2char(RaTG13)),\n",
    "                     toupper(dna2char(MA15)),\n",
    "                     toupper(dna2char(RsSHC014))))\n",
    "string.set"
   ]
  },
  {
   "cell_type": "code",
   "execution_count": 17,
   "metadata": {},
   "outputs": [
    {
     "name": "stdout",
     "output_type": "stream",
     "text": [
      "use default substitution matrix\n"
     ]
    },
    {
     "data": {
      "text/plain": [
       "  A AAStringSet instance of length 4\n",
       "    width seq                                               names               \n",
       "[1] 29959 ATTAAAGGTTTATACCTTCCCAG...AAAAAAAAAAAAAAAAAAAAAAA MT019529.1 Severe...\n",
       "[2] 29959 ---------------CTTTCCAG...AAAAAAAAAAAAAA--------- MN996532.1 Bat co...\n",
       "[3] 29959 -----------------------...----------------------- JF292920.1 SARS c...\n",
       "[4] 29959 ATATTAGGTTTTTACCTACCCAG...AAAAAAAAAAAA----------- KC881005.1 Bat SA..."
      ]
     },
     "metadata": {},
     "output_type": "display_data"
    }
   ],
   "source": [
    "string.set <- AAStringSet(msa(string.set))\n",
    "string.set"
   ]
  },
  {
   "cell_type": "code",
   "execution_count": 18,
   "metadata": {},
   "outputs": [
    {
     "data": {
      "text/html": [
       "'Сходство геномов COVID-19 и RaTG13:'"
      ],
      "text/latex": [
       "'Сходство геномов COVID-19 и RaTG13:'"
      ],
      "text/markdown": [
       "'Сходство геномов COVID-19 и RaTG13:'"
      ],
      "text/plain": [
       "[1] \"Сходство геномов COVID-19 и RaTG13:\""
      ]
     },
     "metadata": {},
     "output_type": "display_data"
    },
    {
     "data": {
      "text/html": [
       "0.960312426983544"
      ],
      "text/latex": [
       "0.960312426983544"
      ],
      "text/markdown": [
       "0.960312426983544"
      ],
      "text/plain": [
       "[1] 0.9603124"
      ]
     },
     "metadata": {},
     "output_type": "display_data"
    },
    {
     "data": {
      "text/html": [
       "'Сходство геномов COVID-19 и MA15:'"
      ],
      "text/latex": [
       "'Сходство геномов COVID-19 и MA15:'"
      ],
      "text/markdown": [
       "'Сходство геномов COVID-19 и MA15:'"
      ],
      "text/plain": [
       "[1] \"Сходство геномов COVID-19 и MA15:\""
      ]
     },
     "metadata": {},
     "output_type": "display_data"
    },
    {
     "data": {
      "text/html": [
       "0.785139690910912"
      ],
      "text/latex": [
       "0.785139690910912"
      ],
      "text/markdown": [
       "0.785139690910912"
      ],
      "text/plain": [
       "[1] 0.7851397"
      ]
     },
     "metadata": {},
     "output_type": "display_data"
    },
    {
     "data": {
      "text/html": [
       "'Сходство геномов COVID-19 и RsSHC014:'"
      ],
      "text/latex": [
       "'Сходство геномов COVID-19 и RsSHC014:'"
      ],
      "text/markdown": [
       "'Сходство геномов COVID-19 и RsSHC014:'"
      ],
      "text/plain": [
       "[1] \"Сходство геномов COVID-19 и RsSHC014:\""
      ]
     },
     "metadata": {},
     "output_type": "display_data"
    },
    {
     "data": {
      "text/html": [
       "0.789979638839748"
      ],
      "text/latex": [
       "0.789979638839748"
      ],
      "text/markdown": [
       "0.789979638839748"
      ],
      "text/plain": [
       "[1] 0.7899796"
      ]
     },
     "metadata": {},
     "output_type": "display_data"
    },
    {
     "data": {
      "text/html": [
       "'Сходство геномов RaTG13 и MA15:'"
      ],
      "text/latex": [
       "'Сходство геномов RaTG13 и MA15:'"
      ],
      "text/markdown": [
       "'Сходство геномов RaTG13 и MA15:'"
      ],
      "text/plain": [
       "[1] \"Сходство геномов RaTG13 и MA15:\""
      ]
     },
     "metadata": {},
     "output_type": "display_data"
    },
    {
     "data": {
      "text/html": [
       "0.784739143496111"
      ],
      "text/latex": [
       "0.784739143496111"
      ],
      "text/markdown": [
       "0.784739143496111"
      ],
      "text/plain": [
       "[1] 0.7847391"
      ]
     },
     "metadata": {},
     "output_type": "display_data"
    },
    {
     "data": {
      "text/html": [
       "'Сходство геномов MA15 и RsSHC014:'"
      ],
      "text/latex": [
       "'Сходство геномов MA15 и RsSHC014:'"
      ],
      "text/markdown": [
       "'Сходство геномов MA15 и RsSHC014:'"
      ],
      "text/plain": [
       "[1] \"Сходство геномов MA15 и RsSHC014:\""
      ]
     },
     "metadata": {},
     "output_type": "display_data"
    },
    {
     "data": {
      "text/html": [
       "0.789178544010147"
      ],
      "text/latex": [
       "0.789178544010147"
      ],
      "text/markdown": [
       "0.789178544010147"
      ],
      "text/plain": [
       "[1] 0.7891785"
      ]
     },
     "metadata": {},
     "output_type": "display_data"
    },
    {
     "data": {
      "text/html": [
       "'Сходство геномов MA15 и RsSHC014:'"
      ],
      "text/latex": [
       "'Сходство геномов MA15 и RsSHC014:'"
      ],
      "text/markdown": [
       "'Сходство геномов MA15 и RsSHC014:'"
      ],
      "text/plain": [
       "[1] \"Сходство геномов MA15 и RsSHC014:\""
      ]
     },
     "metadata": {},
     "output_type": "display_data"
    },
    {
     "data": {
      "text/html": [
       "0.948129109783371"
      ],
      "text/latex": [
       "0.948129109783371"
      ],
      "text/markdown": [
       "0.948129109783371"
      ],
      "text/plain": [
       "[1] 0.9481291"
      ]
     },
     "metadata": {},
     "output_type": "display_data"
    }
   ],
   "source": [
    "\"Сходство геномов COVID-19 и RaTG13:\"\n",
    "element_wise.compare(string.set[1],string.set[2])\n",
    "\"Сходство геномов COVID-19 и MA15:\"\n",
    "element_wise.compare(string.set[1],string.set[3])\n",
    "\"Сходство геномов COVID-19 и RsSHC014:\"\n",
    "element_wise.compare(string.set[1],string.set[4])\n",
    "\"Сходство геномов RaTG13 и MA15:\"\n",
    "element_wise.compare(string.set[2],string.set[3])\n",
    "\"Сходство геномов MA15 и RsSHC014:\"\n",
    "element_wise.compare(string.set[2],string.set[4])\n",
    "\"Сходство геномов MA15 и RsSHC014:\"\n",
    "element_wise.compare(string.set[3],string.set[4])"
   ]
  },
  {
   "cell_type": "markdown",
   "metadata": {},
   "source": [
    "Результат: `COVID-19` отличается и от `MA15`, и от `RsSHC014` гораздо сильнее, чем от `RaTG13` (а с последним он очень схож)."
   ]
  },
  {
   "cell_type": "markdown",
   "metadata": {},
   "source": [
    "#### 4.4. Филогенетическое дерево."
   ]
  },
  {
   "cell_type": "markdown",
   "metadata": {},
   "source": [
    "Теперь построим филогенетическое дерево по $55$ штаммам, включающим в себя $1$ штамм `RaTG13`, $1$ штамм `RsSHC014`, $4$ штамма `MA15` и $49$ штаммов `COVID-19`, которые были взяты из разных стран за разные месяцы, начиная с конца декабря $2019$ года. Данные, как и выше, были заранее выровнены с помощью онлайн ресурса.\n",
    "\n",
    "Для удобства визуализации дерева вершины будем помечать численными индексами и отдельно выпишем их расшифровку."
   ]
  },
  {
   "cell_type": "code",
   "execution_count": 19,
   "metadata": {
    "scrolled": false
   },
   "outputs": [
    {
     "data": {
      "text/plain": [
       "55 DNA sequences in binary format stored in a matrix.\n",
       "\n",
       "All sequences of same length: 29970 \n",
       "\n",
       "Labels:\n",
       "MN996532.1 Bat coronavirus RaTG13, complete genome\n",
       "MT233522.1 Severe acute respiratory syndrome coronavirus 2 i...\n",
       "MT007544.1 Severe acute respiratory syndrome coronavirus 2 i...\n",
       "MT308704.1 Severe acute respiratory syndrome coronavirus 2 i...\n",
       "MT258383.1 Severe acute respiratory syndrome coronavirus 2 i...\n",
       "MT039890.1 Severe acute respiratory syndrome coronavirus 2 i...\n",
       "...\n",
       "\n",
       "Base composition:\n",
       "    a     c     g     t \n",
       "0.298 0.185 0.197 0.320 \n",
       "(Total: 1.65 Mb)"
      ]
     },
     "metadata": {},
     "output_type": "display_data"
    },
    {
     "data": {
      "text/html": [
       "<ol>\n",
       "\t<li>'MN996532.1 Bat coronavirus RaTG13, complete genome'</li>\n",
       "\t<li>'MT233522.1 Severe acute respiratory syndrome coronavirus 2 isolate SARS-CoV-2/human/ESP/Valencia7/2020, complete genome'</li>\n",
       "\t<li>'MT007544.1 Severe acute respiratory syndrome coronavirus 2 isolate Australia/VIC01/2020, complete genome'</li>\n",
       "\t<li>'MT308704.1 Severe acute respiratory syndrome coronavirus 2 isolate SARS-CoV-2/human/USA/UNC_200189/2020, complete genome'</li>\n",
       "\t<li>'MT258383.1 Severe acute respiratory syndrome coronavirus 2 isolate SARS-CoV-2/human/USA/CZB-RR057-015/2020, complete genome'</li>\n",
       "\t<li>'MT039890.1 Severe acute respiratory syndrome coronavirus 2 isolate SNU01, complete genome'</li>\n",
       "\t<li>'MT293212.1 Severe acute respiratory syndrome coronavirus 2 isolate SARS-CoV-2/human/USAWA-UW449/2020, complete genome'</li>\n",
       "\t<li>'MT281577.1 Severe acute respiratory syndrome coronavirus 2 isolate SARS-CoV-2/human/CHN/Fuyang_FY002/2020, complete genome'</li>\n",
       "\t<li>'MT019529.1 Severe acute respiratory syndrome coronavirus 2 isolate BetaCoV/Wuhan/IPBCAMS-WH-01/2019, complete genome'</li>\n",
       "\t<li>'LC529905.1 Severe acute respiratory syndrome coronavirus 2 TKYE6182_2020 RNA, complete genome'</li>\n",
       "\t<li>'MT291828.1 Severe acute respiratory syndrome coronavirus 2 isolate SARS-CoV-2/human/CHN/Wuhan_IME-WH03/2019, complete genome'</li>\n",
       "\t<li>'MT019531.1 Severe acute respiratory syndrome coronavirus 2 isolate BetaCoV/Wuhan/IPBCAMS-WH-03/2019, complete genome'</li>\n",
       "\t<li>'MT291830.1 Severe acute respiratory syndrome coronavirus 2 isolate SARS-CoV-2/human/CHN/Wuhan_IME-WH05/2019, complete genome'</li>\n",
       "\t<li>'MN908947.3 Severe acute respiratory syndrome coronavirus 2 isolate Wuhan-Hu-1, complete genome'</li>\n",
       "\t<li>'MT263436.1 Severe acute respiratory syndrome coronavirus 2 isolate SARS-CoV-2/human/USA/WA-UW356/2020, complete genome'</li>\n",
       "\t<li>'MT262993.1 Severe acute respiratory syndrome coronavirus 2 isolate SARS-Cov-2/human/PAK/Manga1/2020, complete genome'</li>\n",
       "\t<li>'MT012098.1 Severe acute respiratory syndrome coronavirus 2 isolate SARS-CoV-2/human/IND/29/2020, complete genome'</li>\n",
       "\t<li>'MT276598.1 Severe acute respiratory syndrome coronavirus 2 isolate SARS-CoV-2/human/ISR/ISR_IT0320/2020, complete genome'</li>\n",
       "\t<li>'MT263074.1 Severe acute respiratory syndrome coronavirus 2 isolate SARS-CoV-2/human/PER/Peru-10/2020, complete genome'</li>\n",
       "\t<li>'MT263439.1 Severe acute respiratory syndrome coronavirus 2 isolate SARS-CoV-2/human/USA/WA-UW359/2020, complete genome'</li>\n",
       "\t<li>'MT292570.1 Severe acute respiratory syndrome coronavirus 2 isolate SARS-CoV-2/human/ESP/Valencia17/2020, complete genome'</li>\n",
       "\t<li>'MT233519.1 Severe acute respiratory syndrome coronavirus 2 isolate SARS-CoV-2/human/ESP/Valencia5/2020, complete genome'</li>\n",
       "\t<li>'MN988713.1 Severe acute respiratory syndrome coronavirus 2 isolate 2019-nCoV/USA-IL1/2020, complete genome'</li>\n",
       "\t<li>'MT246452.1 Severe acute respiratory syndrome coronavirus 2 isolate SARS-CoV-2/human/USA/WA-UW195/2020, complete genome'</li>\n",
       "\t<li>'MT246464.1 Severe acute respiratory syndrome coronavirus 2 isolate SARS-CoV-2/human/USA/WA-UW207/2020, complete genome'</li>\n",
       "\t<li>'MT259254.1 Severe acute respiratory syndrome coronavirus 2 isolate SARS-CoV-2/human/USA/WA-UW262/2020, complete genome'</li>\n",
       "\t<li>'MT304485.1 Severe acute respiratory syndrome coronavirus 2 isolate SARS-CoV-2/human/USA/NH_0008/2020, complete genome'</li>\n",
       "\t<li>'MT276323.1 Severe acute respiratory syndrome coronavirus 2 isolate SARS-CoV-2/human/USA/RI_0520/2020, complete genome'</li>\n",
       "\t<li>'MT049951.1 Severe acute respiratory syndrome coronavirus 2 isolate SARS-CoV-2/human/CHN/Yunnan-01/2020, complete genome'</li>\n",
       "\t<li>'MT291832.1 Severe acute respiratory syndrome coronavirus 2 isolate SARS-CoV-2/human/CHN/Wuhan_IME-BJ02/2020, complete genome'</li>\n",
       "\t<li>'MN985325.1 Severe acute respiratory syndrome coronavirus 2 isolate 2019-nCoV/USA-WA1/2020, complete genome'</li>\n",
       "\t<li>'MN938384.1 Severe acute respiratory syndrome coronavirus 2 isolate 2019-nCoV_HKU-SZ-002a_2020, complete genome'</li>\n",
       "\t<li>'MN997409.1 Severe acute respiratory syndrome coronavirus 2 isolate 2019-nCoV/USA-AZ1/2020, complete genome'</li>\n",
       "\t<li>'MT240479.1 Severe acute respiratory syndrome coronavirus 2 isolate SARS-CoV-2/human/PAK/Gilgit1/2020, complete genome'</li>\n",
       "\t<li>'MT184913.1 Severe acute respiratory syndrome coronavirus 2 isolate 2019-nCoV/USA-CruiseA-26/2020, complete genome'</li>\n",
       "\t<li>'MT019530.1 Severe acute respiratory syndrome coronavirus 2 isolate BetaCoV/Wuhan/IPBCAMS-WH-02/2019, complete genome'</li>\n",
       "\t<li>'MT126808.1 Severe acute respiratory syndrome coronavirus 2 isolate SARS-CoV-2/human/BRA/SP02/2020, complete genome'</li>\n",
       "\t<li>'MT304474.1 Severe acute respiratory syndrome coronavirus 2 isolate SARS-CoV-2/human/KOR/BA-ACH_2604/2020, complete genome'</li>\n",
       "\t<li>'MT276331.1 Severe acute respiratory syndrome coronavirus 2 isolate SARS-CoV-2/human/USA/TX_2020/2020, complete genome'</li>\n",
       "\t<li>'MT276328.1 Severe acute respiratory syndrome coronavirus 2 isolate SARS-CoV-2/human/USA/OR_2656/2020, complete genome'</li>\n",
       "\t<li>'MN996531.1 Severe acute respiratory syndrome coronavirus 2 isolate WIV07, complete genome'</li>\n",
       "\t<li>'MN994468.1 Severe acute respiratory syndrome coronavirus 2 isolate 2019-nCoV/USA-CA2/2020, complete genome'</li>\n",
       "\t<li>'MT072688.1 Severe acute respiratory syndrome coronavirus 2 isolate SARS-CoV-2/human/NPL/61-TW/2020, complete genome'</li>\n",
       "\t<li>'MT159715.1 Severe acute respiratory syndrome coronavirus 2 isolate 2019-nCoV/USA-CruiseA-17/2020, complete genome'</li>\n",
       "\t<li>'MT192772.1 Severe acute respiratory syndrome coronavirus 2 isolate SARS-CoV-2/human/VNM/nCoV-19-01S/2020, complete genome'</li>\n",
       "\t<li>'MN996530.1 Severe acute respiratory syndrome coronavirus 2 isolate WIV06, complete genome'</li>\n",
       "\t<li>'MT192759.1 Severe acute respiratory syndrome coronavirus 2 isolate SARS-CoV-2/human/TWN/CGMH-CGU-01/2020, complete genome'</li>\n",
       "\t<li>'MT039873.1 Severe acute respiratory syndrome coronavirus 2 isolate HZ-1, complete genome'</li>\n",
       "\t<li>'MN996528.1 Severe acute respiratory syndrome coronavirus 2 isolate WIV04, complete genome'</li>\n",
       "\t<li>'MN988668.1 Severe acute respiratory syndrome coronavirus 2 isolate 2019-nCoV WHU01, complete genome'</li>\n",
       "\t<li>'JF292920.1 SARS coronavirus MA15 isolate d3om5, complete genome'</li>\n",
       "\t<li>'JF292916.1 SARS coronavirus MA15 isolate d3om1, complete genome'</li>\n",
       "\t<li>'JF292919.1 SARS coronavirus MA15 isolate d3om4, complete genome'</li>\n",
       "\t<li>'JF292910.1 SARS coronavirus MA15 isolate d2ym5, complete genome'</li>\n",
       "\t<li>'KC881005.1 Bat SARS-like coronavirus RsSHC014, complete genome'</li>\n",
       "</ol>\n"
      ],
      "text/latex": [
       "\\begin{enumerate}\n",
       "\\item 'MN996532.1 Bat coronavirus RaTG13, complete genome'\n",
       "\\item 'MT233522.1 Severe acute respiratory syndrome coronavirus 2 isolate SARS-CoV-2/human/ESP/Valencia7/2020, complete genome'\n",
       "\\item 'MT007544.1 Severe acute respiratory syndrome coronavirus 2 isolate Australia/VIC01/2020, complete genome'\n",
       "\\item 'MT308704.1 Severe acute respiratory syndrome coronavirus 2 isolate SARS-CoV-2/human/USA/UNC\\_200189/2020, complete genome'\n",
       "\\item 'MT258383.1 Severe acute respiratory syndrome coronavirus 2 isolate SARS-CoV-2/human/USA/CZB-RR057-015/2020, complete genome'\n",
       "\\item 'MT039890.1 Severe acute respiratory syndrome coronavirus 2 isolate SNU01, complete genome'\n",
       "\\item 'MT293212.1 Severe acute respiratory syndrome coronavirus 2 isolate SARS-CoV-2/human/USAWA-UW449/2020, complete genome'\n",
       "\\item 'MT281577.1 Severe acute respiratory syndrome coronavirus 2 isolate SARS-CoV-2/human/CHN/Fuyang\\_FY002/2020, complete genome'\n",
       "\\item 'MT019529.1 Severe acute respiratory syndrome coronavirus 2 isolate BetaCoV/Wuhan/IPBCAMS-WH-01/2019, complete genome'\n",
       "\\item 'LC529905.1 Severe acute respiratory syndrome coronavirus 2 TKYE6182\\_2020 RNA, complete genome'\n",
       "\\item 'MT291828.1 Severe acute respiratory syndrome coronavirus 2 isolate SARS-CoV-2/human/CHN/Wuhan\\_IME-WH03/2019, complete genome'\n",
       "\\item 'MT019531.1 Severe acute respiratory syndrome coronavirus 2 isolate BetaCoV/Wuhan/IPBCAMS-WH-03/2019, complete genome'\n",
       "\\item 'MT291830.1 Severe acute respiratory syndrome coronavirus 2 isolate SARS-CoV-2/human/CHN/Wuhan\\_IME-WH05/2019, complete genome'\n",
       "\\item 'MN908947.3 Severe acute respiratory syndrome coronavirus 2 isolate Wuhan-Hu-1, complete genome'\n",
       "\\item 'MT263436.1 Severe acute respiratory syndrome coronavirus 2 isolate SARS-CoV-2/human/USA/WA-UW356/2020, complete genome'\n",
       "\\item 'MT262993.1 Severe acute respiratory syndrome coronavirus 2 isolate SARS-Cov-2/human/PAK/Manga1/2020, complete genome'\n",
       "\\item 'MT012098.1 Severe acute respiratory syndrome coronavirus 2 isolate SARS-CoV-2/human/IND/29/2020, complete genome'\n",
       "\\item 'MT276598.1 Severe acute respiratory syndrome coronavirus 2 isolate SARS-CoV-2/human/ISR/ISR\\_IT0320/2020, complete genome'\n",
       "\\item 'MT263074.1 Severe acute respiratory syndrome coronavirus 2 isolate SARS-CoV-2/human/PER/Peru-10/2020, complete genome'\n",
       "\\item 'MT263439.1 Severe acute respiratory syndrome coronavirus 2 isolate SARS-CoV-2/human/USA/WA-UW359/2020, complete genome'\n",
       "\\item 'MT292570.1 Severe acute respiratory syndrome coronavirus 2 isolate SARS-CoV-2/human/ESP/Valencia17/2020, complete genome'\n",
       "\\item 'MT233519.1 Severe acute respiratory syndrome coronavirus 2 isolate SARS-CoV-2/human/ESP/Valencia5/2020, complete genome'\n",
       "\\item 'MN988713.1 Severe acute respiratory syndrome coronavirus 2 isolate 2019-nCoV/USA-IL1/2020, complete genome'\n",
       "\\item 'MT246452.1 Severe acute respiratory syndrome coronavirus 2 isolate SARS-CoV-2/human/USA/WA-UW195/2020, complete genome'\n",
       "\\item 'MT246464.1 Severe acute respiratory syndrome coronavirus 2 isolate SARS-CoV-2/human/USA/WA-UW207/2020, complete genome'\n",
       "\\item 'MT259254.1 Severe acute respiratory syndrome coronavirus 2 isolate SARS-CoV-2/human/USA/WA-UW262/2020, complete genome'\n",
       "\\item 'MT304485.1 Severe acute respiratory syndrome coronavirus 2 isolate SARS-CoV-2/human/USA/NH\\_0008/2020, complete genome'\n",
       "\\item 'MT276323.1 Severe acute respiratory syndrome coronavirus 2 isolate SARS-CoV-2/human/USA/RI\\_0520/2020, complete genome'\n",
       "\\item 'MT049951.1 Severe acute respiratory syndrome coronavirus 2 isolate SARS-CoV-2/human/CHN/Yunnan-01/2020, complete genome'\n",
       "\\item 'MT291832.1 Severe acute respiratory syndrome coronavirus 2 isolate SARS-CoV-2/human/CHN/Wuhan\\_IME-BJ02/2020, complete genome'\n",
       "\\item 'MN985325.1 Severe acute respiratory syndrome coronavirus 2 isolate 2019-nCoV/USA-WA1/2020, complete genome'\n",
       "\\item 'MN938384.1 Severe acute respiratory syndrome coronavirus 2 isolate 2019-nCoV\\_HKU-SZ-002a\\_2020, complete genome'\n",
       "\\item 'MN997409.1 Severe acute respiratory syndrome coronavirus 2 isolate 2019-nCoV/USA-AZ1/2020, complete genome'\n",
       "\\item 'MT240479.1 Severe acute respiratory syndrome coronavirus 2 isolate SARS-CoV-2/human/PAK/Gilgit1/2020, complete genome'\n",
       "\\item 'MT184913.1 Severe acute respiratory syndrome coronavirus 2 isolate 2019-nCoV/USA-CruiseA-26/2020, complete genome'\n",
       "\\item 'MT019530.1 Severe acute respiratory syndrome coronavirus 2 isolate BetaCoV/Wuhan/IPBCAMS-WH-02/2019, complete genome'\n",
       "\\item 'MT126808.1 Severe acute respiratory syndrome coronavirus 2 isolate SARS-CoV-2/human/BRA/SP02/2020, complete genome'\n",
       "\\item 'MT304474.1 Severe acute respiratory syndrome coronavirus 2 isolate SARS-CoV-2/human/KOR/BA-ACH\\_2604/2020, complete genome'\n",
       "\\item 'MT276331.1 Severe acute respiratory syndrome coronavirus 2 isolate SARS-CoV-2/human/USA/TX\\_2020/2020, complete genome'\n",
       "\\item 'MT276328.1 Severe acute respiratory syndrome coronavirus 2 isolate SARS-CoV-2/human/USA/OR\\_2656/2020, complete genome'\n",
       "\\item 'MN996531.1 Severe acute respiratory syndrome coronavirus 2 isolate WIV07, complete genome'\n",
       "\\item 'MN994468.1 Severe acute respiratory syndrome coronavirus 2 isolate 2019-nCoV/USA-CA2/2020, complete genome'\n",
       "\\item 'MT072688.1 Severe acute respiratory syndrome coronavirus 2 isolate SARS-CoV-2/human/NPL/61-TW/2020, complete genome'\n",
       "\\item 'MT159715.1 Severe acute respiratory syndrome coronavirus 2 isolate 2019-nCoV/USA-CruiseA-17/2020, complete genome'\n",
       "\\item 'MT192772.1 Severe acute respiratory syndrome coronavirus 2 isolate SARS-CoV-2/human/VNM/nCoV-19-01S/2020, complete genome'\n",
       "\\item 'MN996530.1 Severe acute respiratory syndrome coronavirus 2 isolate WIV06, complete genome'\n",
       "\\item 'MT192759.1 Severe acute respiratory syndrome coronavirus 2 isolate SARS-CoV-2/human/TWN/CGMH-CGU-01/2020, complete genome'\n",
       "\\item 'MT039873.1 Severe acute respiratory syndrome coronavirus 2 isolate HZ-1, complete genome'\n",
       "\\item 'MN996528.1 Severe acute respiratory syndrome coronavirus 2 isolate WIV04, complete genome'\n",
       "\\item 'MN988668.1 Severe acute respiratory syndrome coronavirus 2 isolate 2019-nCoV WHU01, complete genome'\n",
       "\\item 'JF292920.1 SARS coronavirus MA15 isolate d3om5, complete genome'\n",
       "\\item 'JF292916.1 SARS coronavirus MA15 isolate d3om1, complete genome'\n",
       "\\item 'JF292919.1 SARS coronavirus MA15 isolate d3om4, complete genome'\n",
       "\\item 'JF292910.1 SARS coronavirus MA15 isolate d2ym5, complete genome'\n",
       "\\item 'KC881005.1 Bat SARS-like coronavirus RsSHC014, complete genome'\n",
       "\\end{enumerate}\n"
      ],
      "text/markdown": [
       "1. 'MN996532.1 Bat coronavirus RaTG13, complete genome'\n",
       "2. 'MT233522.1 Severe acute respiratory syndrome coronavirus 2 isolate SARS-CoV-2/human/ESP/Valencia7/2020, complete genome'\n",
       "3. 'MT007544.1 Severe acute respiratory syndrome coronavirus 2 isolate Australia/VIC01/2020, complete genome'\n",
       "4. 'MT308704.1 Severe acute respiratory syndrome coronavirus 2 isolate SARS-CoV-2/human/USA/UNC_200189/2020, complete genome'\n",
       "5. 'MT258383.1 Severe acute respiratory syndrome coronavirus 2 isolate SARS-CoV-2/human/USA/CZB-RR057-015/2020, complete genome'\n",
       "6. 'MT039890.1 Severe acute respiratory syndrome coronavirus 2 isolate SNU01, complete genome'\n",
       "7. 'MT293212.1 Severe acute respiratory syndrome coronavirus 2 isolate SARS-CoV-2/human/USAWA-UW449/2020, complete genome'\n",
       "8. 'MT281577.1 Severe acute respiratory syndrome coronavirus 2 isolate SARS-CoV-2/human/CHN/Fuyang_FY002/2020, complete genome'\n",
       "9. 'MT019529.1 Severe acute respiratory syndrome coronavirus 2 isolate BetaCoV/Wuhan/IPBCAMS-WH-01/2019, complete genome'\n",
       "10. 'LC529905.1 Severe acute respiratory syndrome coronavirus 2 TKYE6182_2020 RNA, complete genome'\n",
       "11. 'MT291828.1 Severe acute respiratory syndrome coronavirus 2 isolate SARS-CoV-2/human/CHN/Wuhan_IME-WH03/2019, complete genome'\n",
       "12. 'MT019531.1 Severe acute respiratory syndrome coronavirus 2 isolate BetaCoV/Wuhan/IPBCAMS-WH-03/2019, complete genome'\n",
       "13. 'MT291830.1 Severe acute respiratory syndrome coronavirus 2 isolate SARS-CoV-2/human/CHN/Wuhan_IME-WH05/2019, complete genome'\n",
       "14. 'MN908947.3 Severe acute respiratory syndrome coronavirus 2 isolate Wuhan-Hu-1, complete genome'\n",
       "15. 'MT263436.1 Severe acute respiratory syndrome coronavirus 2 isolate SARS-CoV-2/human/USA/WA-UW356/2020, complete genome'\n",
       "16. 'MT262993.1 Severe acute respiratory syndrome coronavirus 2 isolate SARS-Cov-2/human/PAK/Manga1/2020, complete genome'\n",
       "17. 'MT012098.1 Severe acute respiratory syndrome coronavirus 2 isolate SARS-CoV-2/human/IND/29/2020, complete genome'\n",
       "18. 'MT276598.1 Severe acute respiratory syndrome coronavirus 2 isolate SARS-CoV-2/human/ISR/ISR_IT0320/2020, complete genome'\n",
       "19. 'MT263074.1 Severe acute respiratory syndrome coronavirus 2 isolate SARS-CoV-2/human/PER/Peru-10/2020, complete genome'\n",
       "20. 'MT263439.1 Severe acute respiratory syndrome coronavirus 2 isolate SARS-CoV-2/human/USA/WA-UW359/2020, complete genome'\n",
       "21. 'MT292570.1 Severe acute respiratory syndrome coronavirus 2 isolate SARS-CoV-2/human/ESP/Valencia17/2020, complete genome'\n",
       "22. 'MT233519.1 Severe acute respiratory syndrome coronavirus 2 isolate SARS-CoV-2/human/ESP/Valencia5/2020, complete genome'\n",
       "23. 'MN988713.1 Severe acute respiratory syndrome coronavirus 2 isolate 2019-nCoV/USA-IL1/2020, complete genome'\n",
       "24. 'MT246452.1 Severe acute respiratory syndrome coronavirus 2 isolate SARS-CoV-2/human/USA/WA-UW195/2020, complete genome'\n",
       "25. 'MT246464.1 Severe acute respiratory syndrome coronavirus 2 isolate SARS-CoV-2/human/USA/WA-UW207/2020, complete genome'\n",
       "26. 'MT259254.1 Severe acute respiratory syndrome coronavirus 2 isolate SARS-CoV-2/human/USA/WA-UW262/2020, complete genome'\n",
       "27. 'MT304485.1 Severe acute respiratory syndrome coronavirus 2 isolate SARS-CoV-2/human/USA/NH_0008/2020, complete genome'\n",
       "28. 'MT276323.1 Severe acute respiratory syndrome coronavirus 2 isolate SARS-CoV-2/human/USA/RI_0520/2020, complete genome'\n",
       "29. 'MT049951.1 Severe acute respiratory syndrome coronavirus 2 isolate SARS-CoV-2/human/CHN/Yunnan-01/2020, complete genome'\n",
       "30. 'MT291832.1 Severe acute respiratory syndrome coronavirus 2 isolate SARS-CoV-2/human/CHN/Wuhan_IME-BJ02/2020, complete genome'\n",
       "31. 'MN985325.1 Severe acute respiratory syndrome coronavirus 2 isolate 2019-nCoV/USA-WA1/2020, complete genome'\n",
       "32. 'MN938384.1 Severe acute respiratory syndrome coronavirus 2 isolate 2019-nCoV_HKU-SZ-002a_2020, complete genome'\n",
       "33. 'MN997409.1 Severe acute respiratory syndrome coronavirus 2 isolate 2019-nCoV/USA-AZ1/2020, complete genome'\n",
       "34. 'MT240479.1 Severe acute respiratory syndrome coronavirus 2 isolate SARS-CoV-2/human/PAK/Gilgit1/2020, complete genome'\n",
       "35. 'MT184913.1 Severe acute respiratory syndrome coronavirus 2 isolate 2019-nCoV/USA-CruiseA-26/2020, complete genome'\n",
       "36. 'MT019530.1 Severe acute respiratory syndrome coronavirus 2 isolate BetaCoV/Wuhan/IPBCAMS-WH-02/2019, complete genome'\n",
       "37. 'MT126808.1 Severe acute respiratory syndrome coronavirus 2 isolate SARS-CoV-2/human/BRA/SP02/2020, complete genome'\n",
       "38. 'MT304474.1 Severe acute respiratory syndrome coronavirus 2 isolate SARS-CoV-2/human/KOR/BA-ACH_2604/2020, complete genome'\n",
       "39. 'MT276331.1 Severe acute respiratory syndrome coronavirus 2 isolate SARS-CoV-2/human/USA/TX_2020/2020, complete genome'\n",
       "40. 'MT276328.1 Severe acute respiratory syndrome coronavirus 2 isolate SARS-CoV-2/human/USA/OR_2656/2020, complete genome'\n",
       "41. 'MN996531.1 Severe acute respiratory syndrome coronavirus 2 isolate WIV07, complete genome'\n",
       "42. 'MN994468.1 Severe acute respiratory syndrome coronavirus 2 isolate 2019-nCoV/USA-CA2/2020, complete genome'\n",
       "43. 'MT072688.1 Severe acute respiratory syndrome coronavirus 2 isolate SARS-CoV-2/human/NPL/61-TW/2020, complete genome'\n",
       "44. 'MT159715.1 Severe acute respiratory syndrome coronavirus 2 isolate 2019-nCoV/USA-CruiseA-17/2020, complete genome'\n",
       "45. 'MT192772.1 Severe acute respiratory syndrome coronavirus 2 isolate SARS-CoV-2/human/VNM/nCoV-19-01S/2020, complete genome'\n",
       "46. 'MN996530.1 Severe acute respiratory syndrome coronavirus 2 isolate WIV06, complete genome'\n",
       "47. 'MT192759.1 Severe acute respiratory syndrome coronavirus 2 isolate SARS-CoV-2/human/TWN/CGMH-CGU-01/2020, complete genome'\n",
       "48. 'MT039873.1 Severe acute respiratory syndrome coronavirus 2 isolate HZ-1, complete genome'\n",
       "49. 'MN996528.1 Severe acute respiratory syndrome coronavirus 2 isolate WIV04, complete genome'\n",
       "50. 'MN988668.1 Severe acute respiratory syndrome coronavirus 2 isolate 2019-nCoV WHU01, complete genome'\n",
       "51. 'JF292920.1 SARS coronavirus MA15 isolate d3om5, complete genome'\n",
       "52. 'JF292916.1 SARS coronavirus MA15 isolate d3om1, complete genome'\n",
       "53. 'JF292919.1 SARS coronavirus MA15 isolate d3om4, complete genome'\n",
       "54. 'JF292910.1 SARS coronavirus MA15 isolate d2ym5, complete genome'\n",
       "55. 'KC881005.1 Bat SARS-like coronavirus RsSHC014, complete genome'\n",
       "\n",
       "\n"
      ],
      "text/plain": [
       "[[1]]\n",
       "[1] \"MN996532.1 Bat coronavirus RaTG13, complete genome\"\n",
       "\n",
       "[[2]]\n",
       "[1] \"MT233522.1 Severe acute respiratory syndrome coronavirus 2 isolate SARS-CoV-2/human/ESP/Valencia7/2020, complete genome\"\n",
       "\n",
       "[[3]]\n",
       "[1] \"MT007544.1 Severe acute respiratory syndrome coronavirus 2 isolate Australia/VIC01/2020, complete genome\"\n",
       "\n",
       "[[4]]\n",
       "[1] \"MT308704.1 Severe acute respiratory syndrome coronavirus 2 isolate SARS-CoV-2/human/USA/UNC_200189/2020, complete genome\"\n",
       "\n",
       "[[5]]\n",
       "[1] \"MT258383.1 Severe acute respiratory syndrome coronavirus 2 isolate SARS-CoV-2/human/USA/CZB-RR057-015/2020, complete genome\"\n",
       "\n",
       "[[6]]\n",
       "[1] \"MT039890.1 Severe acute respiratory syndrome coronavirus 2 isolate SNU01, complete genome\"\n",
       "\n",
       "[[7]]\n",
       "[1] \"MT293212.1 Severe acute respiratory syndrome coronavirus 2 isolate SARS-CoV-2/human/USAWA-UW449/2020, complete genome\"\n",
       "\n",
       "[[8]]\n",
       "[1] \"MT281577.1 Severe acute respiratory syndrome coronavirus 2 isolate SARS-CoV-2/human/CHN/Fuyang_FY002/2020, complete genome\"\n",
       "\n",
       "[[9]]\n",
       "[1] \"MT019529.1 Severe acute respiratory syndrome coronavirus 2 isolate BetaCoV/Wuhan/IPBCAMS-WH-01/2019, complete genome\"\n",
       "\n",
       "[[10]]\n",
       "[1] \"LC529905.1 Severe acute respiratory syndrome coronavirus 2 TKYE6182_2020 RNA, complete genome\"\n",
       "\n",
       "[[11]]\n",
       "[1] \"MT291828.1 Severe acute respiratory syndrome coronavirus 2 isolate SARS-CoV-2/human/CHN/Wuhan_IME-WH03/2019, complete genome\"\n",
       "\n",
       "[[12]]\n",
       "[1] \"MT019531.1 Severe acute respiratory syndrome coronavirus 2 isolate BetaCoV/Wuhan/IPBCAMS-WH-03/2019, complete genome\"\n",
       "\n",
       "[[13]]\n",
       "[1] \"MT291830.1 Severe acute respiratory syndrome coronavirus 2 isolate SARS-CoV-2/human/CHN/Wuhan_IME-WH05/2019, complete genome\"\n",
       "\n",
       "[[14]]\n",
       "[1] \"MN908947.3 Severe acute respiratory syndrome coronavirus 2 isolate Wuhan-Hu-1, complete genome\"\n",
       "\n",
       "[[15]]\n",
       "[1] \"MT263436.1 Severe acute respiratory syndrome coronavirus 2 isolate SARS-CoV-2/human/USA/WA-UW356/2020, complete genome\"\n",
       "\n",
       "[[16]]\n",
       "[1] \"MT262993.1 Severe acute respiratory syndrome coronavirus 2 isolate SARS-Cov-2/human/PAK/Manga1/2020, complete genome\"\n",
       "\n",
       "[[17]]\n",
       "[1] \"MT012098.1 Severe acute respiratory syndrome coronavirus 2 isolate SARS-CoV-2/human/IND/29/2020, complete genome\"\n",
       "\n",
       "[[18]]\n",
       "[1] \"MT276598.1 Severe acute respiratory syndrome coronavirus 2 isolate SARS-CoV-2/human/ISR/ISR_IT0320/2020, complete genome\"\n",
       "\n",
       "[[19]]\n",
       "[1] \"MT263074.1 Severe acute respiratory syndrome coronavirus 2 isolate SARS-CoV-2/human/PER/Peru-10/2020, complete genome\"\n",
       "\n",
       "[[20]]\n",
       "[1] \"MT263439.1 Severe acute respiratory syndrome coronavirus 2 isolate SARS-CoV-2/human/USA/WA-UW359/2020, complete genome\"\n",
       "\n",
       "[[21]]\n",
       "[1] \"MT292570.1 Severe acute respiratory syndrome coronavirus 2 isolate SARS-CoV-2/human/ESP/Valencia17/2020, complete genome\"\n",
       "\n",
       "[[22]]\n",
       "[1] \"MT233519.1 Severe acute respiratory syndrome coronavirus 2 isolate SARS-CoV-2/human/ESP/Valencia5/2020, complete genome\"\n",
       "\n",
       "[[23]]\n",
       "[1] \"MN988713.1 Severe acute respiratory syndrome coronavirus 2 isolate 2019-nCoV/USA-IL1/2020, complete genome\"\n",
       "\n",
       "[[24]]\n",
       "[1] \"MT246452.1 Severe acute respiratory syndrome coronavirus 2 isolate SARS-CoV-2/human/USA/WA-UW195/2020, complete genome\"\n",
       "\n",
       "[[25]]\n",
       "[1] \"MT246464.1 Severe acute respiratory syndrome coronavirus 2 isolate SARS-CoV-2/human/USA/WA-UW207/2020, complete genome\"\n",
       "\n",
       "[[26]]\n",
       "[1] \"MT259254.1 Severe acute respiratory syndrome coronavirus 2 isolate SARS-CoV-2/human/USA/WA-UW262/2020, complete genome\"\n",
       "\n",
       "[[27]]\n",
       "[1] \"MT304485.1 Severe acute respiratory syndrome coronavirus 2 isolate SARS-CoV-2/human/USA/NH_0008/2020, complete genome\"\n",
       "\n",
       "[[28]]\n",
       "[1] \"MT276323.1 Severe acute respiratory syndrome coronavirus 2 isolate SARS-CoV-2/human/USA/RI_0520/2020, complete genome\"\n",
       "\n",
       "[[29]]\n",
       "[1] \"MT049951.1 Severe acute respiratory syndrome coronavirus 2 isolate SARS-CoV-2/human/CHN/Yunnan-01/2020, complete genome\"\n",
       "\n",
       "[[30]]\n",
       "[1] \"MT291832.1 Severe acute respiratory syndrome coronavirus 2 isolate SARS-CoV-2/human/CHN/Wuhan_IME-BJ02/2020, complete genome\"\n",
       "\n",
       "[[31]]\n",
       "[1] \"MN985325.1 Severe acute respiratory syndrome coronavirus 2 isolate 2019-nCoV/USA-WA1/2020, complete genome\"\n",
       "\n",
       "[[32]]\n",
       "[1] \"MN938384.1 Severe acute respiratory syndrome coronavirus 2 isolate 2019-nCoV_HKU-SZ-002a_2020, complete genome\"\n",
       "\n",
       "[[33]]\n",
       "[1] \"MN997409.1 Severe acute respiratory syndrome coronavirus 2 isolate 2019-nCoV/USA-AZ1/2020, complete genome\"\n",
       "\n",
       "[[34]]\n",
       "[1] \"MT240479.1 Severe acute respiratory syndrome coronavirus 2 isolate SARS-CoV-2/human/PAK/Gilgit1/2020, complete genome\"\n",
       "\n",
       "[[35]]\n",
       "[1] \"MT184913.1 Severe acute respiratory syndrome coronavirus 2 isolate 2019-nCoV/USA-CruiseA-26/2020, complete genome\"\n",
       "\n",
       "[[36]]\n",
       "[1] \"MT019530.1 Severe acute respiratory syndrome coronavirus 2 isolate BetaCoV/Wuhan/IPBCAMS-WH-02/2019, complete genome\"\n",
       "\n",
       "[[37]]\n",
       "[1] \"MT126808.1 Severe acute respiratory syndrome coronavirus 2 isolate SARS-CoV-2/human/BRA/SP02/2020, complete genome\"\n",
       "\n",
       "[[38]]\n",
       "[1] \"MT304474.1 Severe acute respiratory syndrome coronavirus 2 isolate SARS-CoV-2/human/KOR/BA-ACH_2604/2020, complete genome\"\n",
       "\n",
       "[[39]]\n",
       "[1] \"MT276331.1 Severe acute respiratory syndrome coronavirus 2 isolate SARS-CoV-2/human/USA/TX_2020/2020, complete genome\"\n",
       "\n",
       "[[40]]\n",
       "[1] \"MT276328.1 Severe acute respiratory syndrome coronavirus 2 isolate SARS-CoV-2/human/USA/OR_2656/2020, complete genome\"\n",
       "\n",
       "[[41]]\n",
       "[1] \"MN996531.1 Severe acute respiratory syndrome coronavirus 2 isolate WIV07, complete genome\"\n",
       "\n",
       "[[42]]\n",
       "[1] \"MN994468.1 Severe acute respiratory syndrome coronavirus 2 isolate 2019-nCoV/USA-CA2/2020, complete genome\"\n",
       "\n",
       "[[43]]\n",
       "[1] \"MT072688.1 Severe acute respiratory syndrome coronavirus 2 isolate SARS-CoV-2/human/NPL/61-TW/2020, complete genome\"\n",
       "\n",
       "[[44]]\n",
       "[1] \"MT159715.1 Severe acute respiratory syndrome coronavirus 2 isolate 2019-nCoV/USA-CruiseA-17/2020, complete genome\"\n",
       "\n",
       "[[45]]\n",
       "[1] \"MT192772.1 Severe acute respiratory syndrome coronavirus 2 isolate SARS-CoV-2/human/VNM/nCoV-19-01S/2020, complete genome\"\n",
       "\n",
       "[[46]]\n",
       "[1] \"MN996530.1 Severe acute respiratory syndrome coronavirus 2 isolate WIV06, complete genome\"\n",
       "\n",
       "[[47]]\n",
       "[1] \"MT192759.1 Severe acute respiratory syndrome coronavirus 2 isolate SARS-CoV-2/human/TWN/CGMH-CGU-01/2020, complete genome\"\n",
       "\n",
       "[[48]]\n",
       "[1] \"MT039873.1 Severe acute respiratory syndrome coronavirus 2 isolate HZ-1, complete genome\"\n",
       "\n",
       "[[49]]\n",
       "[1] \"MN996528.1 Severe acute respiratory syndrome coronavirus 2 isolate WIV04, complete genome\"\n",
       "\n",
       "[[50]]\n",
       "[1] \"MN988668.1 Severe acute respiratory syndrome coronavirus 2 isolate 2019-nCoV WHU01, complete genome\"\n",
       "\n",
       "[[51]]\n",
       "[1] \"JF292920.1 SARS coronavirus MA15 isolate d3om5, complete genome\"\n",
       "\n",
       "[[52]]\n",
       "[1] \"JF292916.1 SARS coronavirus MA15 isolate d3om1, complete genome\"\n",
       "\n",
       "[[53]]\n",
       "[1] \"JF292919.1 SARS coronavirus MA15 isolate d3om4, complete genome\"\n",
       "\n",
       "[[54]]\n",
       "[1] \"JF292910.1 SARS coronavirus MA15 isolate d2ym5, complete genome\"\n",
       "\n",
       "[[55]]\n",
       "[1] \"KC881005.1 Bat SARS-like coronavirus RsSHC014, complete genome\"\n"
      ]
     },
     "metadata": {},
     "output_type": "display_data"
    },
    {
     "data": {
      "image/png": "[encoded data removed]",
      "text/plain": [
       "plot without title"
      ]
     },
     "metadata": {},
     "output_type": "display_data"
    }
   ],
   "source": [
    "fasta_data <- as.matrix(read.fasta(\"common_msa_2.fasta\"))\n",
    "fasta_data\n",
    "as.list(labels(fasta_data))\n",
    "rownames(fasta_data) <- 1:55\n",
    "phy.data <- as.phyDat(as.matrix(fasta_data))\n",
    "tree <- nj(dist.logDet(phy.data))\n",
    "ggtree(tree, lwd = 1, color = \"darkgreen\", alpha = 0.8, right = TRUE) +\n",
    "  geom_tiplab(size = 3, angle = 0, offset = 0.05, hjust = 3) +\n",
    "  geom_point(aes(shape = isTip, color = isTip), size = 5, alpha = 0.6)"
   ]
  },
  {
   "cell_type": "markdown",
   "metadata": {},
   "source": [
    "Снова видим, что `RaTG13` (индекс $1$ ) гораздо ближе к штаммам `COVID-19`, чем `MA15` (индексы $51-54$ ) и `RsSHC014`(индекс $55$ ), а также то, что штаммы `COVID-19` похожи между собой и сильно ветвятся. Полученное дерево вряд ли хорошо показывает генеалогическое происхождение видов, но зато отображает степень их сходства. Также можно, например заметить, что из рассмотренных штаммов `COVID-19` сильнее всех отличаются от других $2$, $21$, $22$, которые были найдены в Валенсии, т.е. в Испании вирус в своем развитии уходит от других видов."
   ]
  },
  {
   "cell_type": "markdown",
   "metadata": {},
   "source": [
    "## Вывод:\n",
    "\n",
    "1. Из рассмотренных геномов `COVID-19` наиболее похож на `RaTG13`. Он сильно отличается и от `MA15`, и от `RsSHC014`, и от искусственно созданного их \"гибрида\" - `SHC014-MA15`.\n",
    "\n",
    "2. Поэтому `COVID-19`, скорее всего, мутировал из вирусов летучих мышей, встречающихся в естесственных условиях (вероятно, из `RaTG13` или его родственника). У него было много времени для этого (более 5 лет), поэтому гипотеза о его лабораторном происхождении (необязательно от `SHC014-MA15`) с достаточно большой степенью уверенности отвергается."
   ]
  }
 ],
 "metadata": {
  "kernelspec": {
   "display_name": "R",
   "language": "R",
   "name": "ir"
  },
  "language_info": {
   "codemirror_mode": "r",
   "file_extension": ".r",
   "mimetype": "text/x-r-source",
   "name": "R",
   "pygments_lexer": "r",
   "version": "3.6.2"
  }
 },
 "nbformat": 4,
 "nbformat_minor": 2
}
