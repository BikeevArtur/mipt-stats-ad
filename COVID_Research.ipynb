{
 "cells": [
  {
   "cell_type": "code",
   "execution_count": 1,
   "metadata": {},
   "outputs": [
    {
     "name": "stderr",
     "output_type": "stream",
     "text": [
      "Warning message:\n",
      "\"package 'igraph' was built under R version 3.6.3\"\n",
      "Attaching package: 'igraph'\n",
      "\n",
      "The following objects are masked from 'package:stats':\n",
      "\n",
      "    decompose, spectrum\n",
      "\n",
      "The following object is masked from 'package:base':\n",
      "\n",
      "    union\n",
      "\n",
      "Warning message:\n",
      "\"package 'ggtree' was built under R version 3.6.3\"Registered S3 methods overwritten by 'ggplot2':\n",
      "  method         from \n",
      "  [.quosures     rlang\n",
      "  c.quosures     rlang\n",
      "  print.quosures rlang\n",
      "Registered S3 method overwritten by 'treeio':\n",
      "  method     from\n",
      "  root.phylo ape \n",
      "ggtree v2.0.2  For help: https://yulab-smu.github.io/treedata-book/\n",
      "\n",
      "If you use ggtree in published research, please cite the most appropriate paper(s):\n",
      "\n",
      "\u001b[36m-\u001b[39m Guangchuang Yu, Tommy Tsan-Yuk Lam, Huachen Zhu, Yi Guan. Two methods for mapping and visualizing associated data on phylogeny using ggtree. Molecular Biology and Evolution 2018, 35(12):3041-3043. doi: 10.1093/molbev/msy194\n",
      "\u001b[36m-\u001b[39m Guangchuang Yu, David Smith, Huachen Zhu, Yi Guan, Tommy Tsan-Yuk Lam. ggtree: an R package for visualization and annotation of phylogenetic trees with their covariates and other associated data. Methods in Ecology and Evolution 2017, 8(1):28-36, doi:10.1111/2041-210X.12628\n",
      "\n",
      "\n",
      "Warning message:\n",
      "\"package 'phangorn' was built under R version 3.6.3\"Loading required package: ape\n",
      "Warning message:\n",
      "\"package 'ape' was built under R version 3.6.3\"\n",
      "Attaching package: 'ape'\n",
      "\n",
      "The following object is masked from 'package:ggtree':\n",
      "\n",
      "    rotate\n",
      "\n",
      "The following objects are masked from 'package:igraph':\n",
      "\n",
      "    edges, mst, ring\n",
      "\n",
      "\n",
      "Attaching package: 'phangorn'\n",
      "\n",
      "The following object is masked from 'package:igraph':\n",
      "\n",
      "    diversity\n",
      "\n",
      "treeio v1.10.0  For help: https://yulab-smu.github.io/treedata-book/\n",
      "\n",
      "If you use treeio in published research, please cite:\n",
      "\n",
      "LG Wang, TTY Lam, S Xu, Z Dai, L Zhou, T Feng, P Guo, CW Dunn, BR Jones, T Bradley, H Zhu, Y Guan, Y Jiang, G Yu. treeio: an R package for phylogenetic tree input and output with richly annotated and associated data. Molecular Biology and Evolution 2019, accepted. doi: 10.1093/molbev/msz240\n",
      "\n",
      "\n",
      "Attaching package: 'treeio'\n",
      "\n",
      "The following object is masked from 'package:ape':\n",
      "\n",
      "    drop.tip\n",
      "\n",
      "The following object is masked from 'package:igraph':\n",
      "\n",
      "    parent\n",
      "\n",
      "Loading required package: BiocGenerics\n",
      "Loading required package: parallel\n",
      "\n",
      "Attaching package: 'BiocGenerics'\n",
      "\n",
      "The following objects are masked from 'package:parallel':\n",
      "\n",
      "    clusterApply, clusterApplyLB, clusterCall, clusterEvalQ,\n",
      "    clusterExport, clusterMap, parApply, parCapply, parLapply,\n",
      "    parLapplyLB, parRapply, parSapply, parSapplyLB\n",
      "\n",
      "The following objects are masked from 'package:igraph':\n",
      "\n",
      "    normalize, path, union\n",
      "\n",
      "The following objects are masked from 'package:stats':\n",
      "\n",
      "    IQR, mad, sd, var, xtabs\n",
      "\n",
      "The following objects are masked from 'package:base':\n",
      "\n",
      "    anyDuplicated, append, as.data.frame, basename, cbind, colnames,\n",
      "    dirname, do.call, duplicated, eval, evalq, Filter, Find, get, grep,\n",
      "    grepl, intersect, is.unsorted, lapply, Map, mapply, match, mget,\n",
      "    order, paste, pmax, pmax.int, pmin, pmin.int, Position, rank,\n",
      "    rbind, Reduce, rownames, sapply, setdiff, sort, table, tapply,\n",
      "    union, unique, unsplit, which, which.max, which.min\n",
      "\n",
      "Loading required package: S4Vectors\n",
      "Warning message:\n",
      "\"package 'S4Vectors' was built under R version 3.6.2\"Loading required package: stats4\n",
      "\n",
      "Attaching package: 'S4Vectors'\n",
      "\n",
      "The following object is masked from 'package:ggtree':\n",
      "\n",
      "    expand\n",
      "\n",
      "The following object is masked from 'package:base':\n",
      "\n",
      "    expand.grid\n",
      "\n",
      "Loading required package: IRanges\n",
      "Warning message:\n",
      "\"package 'IRanges' was built under R version 3.6.2\"\n",
      "Attaching package: 'IRanges'\n",
      "\n",
      "The following object is masked from 'package:ggtree':\n",
      "\n",
      "    collapse\n",
      "\n",
      "The following object is masked from 'package:grDevices':\n",
      "\n",
      "    windows\n",
      "\n",
      "Loading required package: XVector\n",
      "\n",
      "Attaching package: 'Biostrings'\n",
      "\n",
      "The following object is masked from 'package:treeio':\n",
      "\n",
      "    mask\n",
      "\n",
      "The following object is masked from 'package:ape':\n",
      "\n",
      "    complement\n",
      "\n",
      "The following object is masked from 'package:base':\n",
      "\n",
      "    strsplit\n",
      "\n",
      "Warning message:\n",
      "\"package 'insect' was built under R version 3.6.3\"Registered S3 method overwritten by 'openssl':\n",
      "  method      from\n",
      "  print.bytes Rcpp\n",
      "\n",
      "Attaching package: 'insect'\n",
      "\n",
      "The following object is masked from 'package:IRanges':\n",
      "\n",
      "    trim\n",
      "\n",
      "The following object is masked from 'package:S4Vectors':\n",
      "\n",
      "    expand\n",
      "\n",
      "The following object is masked from 'package:ggtree':\n",
      "\n",
      "    expand\n",
      "\n"
     ]
    }
   ],
   "source": [
    "library(\"igraph\")\n",
    "library(\"ggtree\")\n",
    "library(\"phangorn\")\n",
    "library(\"treeio\")\n",
    "library(\"Biostrings\")\n",
    "library(\"msa\")\n",
    "library(\"ape\")\n",
    "library(\"insect\")"
   ]
  },
  {
   "cell_type": "markdown",
   "metadata": {},
   "source": [
    "Построем филогенетическое дерево по геномам различных штаммов коронавируса. Данные загружены с сайта [NCBI](https://www.ncbi.nlm.nih.gov/genbank/sars-cov-2-seqs/#nucleotide-sequences) и собраны в один файл `common.fasta` в формате `fasta`. Длины ДНК-последовательностей отличаются, поэтому предварительно требуется выровнять их. Это можно сделать с помощью следующего кода:"
   ]
  },
  {
   "cell_type": "code",
   "execution_count": null,
   "metadata": {},
   "outputs": [],
   "source": [
    "fasta_data <- read.fasta(\"common.fasta\")\n",
    "l = c(dna2char(fasta_data[1]))\n",
    "for (i in 2:16) {\n",
    "    l = rbind(l, c(dna2char(fasta_data[i])))\n",
    "}\n",
    "string.set <- DNAStringSet(l)\n",
    "string.set <- msa(DNAStringSet(l))\n",
    "fasta_data <- as.DNAbin(string.set)"
   ]
  },
  {
   "cell_type": "markdown",
   "metadata": {},
   "source": [
    "Демонстрация работы на маленьких данных:"
   ]
  },
  {
   "cell_type": "code",
   "execution_count": 2,
   "metadata": {},
   "outputs": [
    {
     "name": "stdout",
     "output_type": "stream",
     "text": [
      "use default substitution matrix\n",
      "CLUSTAL 2.1  \n",
      "\n",
      "Call:\n",
      "   msa(DNAStringSet(c(dna2char(Q1), dna2char(Q2), dna2char(Q3))))\n",
      "\n",
      "MsaDNAMultipleAlignment with 3 rows and 14 columns\n",
      "    aln \n",
      "[1] TCCGAATAAGTAAA\n",
      "[2] -CCGAATCAGTA--\n",
      "[3] TCTAAATAAGCAC-\n",
      "Con TCCGAATAAGTA?- \n"
     ]
    }
   ],
   "source": [
    "Q1 <- as.DNAbin(c(\"T\",\"C\",\"C\",\"G\",\"A\",\"A\",\"T\",\"A\",\"A\",\"G\",\"T\",\"A\",\"A\",\"A\"))\n",
    "Q2 <- as.DNAbin(c(\"C\",\"C\",\"G\",\"A\",\"A\",\"T\",\"C\",\"A\",\"G\",\"T\",\"A\"))\n",
    "Q3 <- as.DNAbin(c(\"T\",\"C\",\"T\",\"A\",\"A\",\"A\",\"T\",\"A\",\"A\",\"G\",\"C\",\"A\",\"C\"))\n",
    "print(msa(DNAStringSet(c(dna2char(Q1),dna2char(Q2),dna2char(Q3)))))"
   ]
  },
  {
   "cell_type": "markdown",
   "metadata": {},
   "source": [
    "Однако для выравнивания нескольких десятков последовательностей длины порядка $30000$ нуклеотидов у меня не достаточно вычислительной мощности (это займет слишком много времени), поэтому для получения того же результата воспользуемся онлайн-ресурсом [Clustal Omega](https://www.ebi.ac.uk/Tools/msa/clustalo/). Полученный в результате файл с выровненными ДНК-последовательностями назовем `common_msa.fasta`."
   ]
  },
  {
   "cell_type": "markdown",
   "metadata": {},
   "source": [
    "Теперь построем филогенетического дерева. Для удобства в подписи вершин вынесем только **id** штамма, страну и дату обнаружения."
   ]
  },
  {
   "cell_type": "code",
   "execution_count": 3,
   "metadata": {},
   "outputs": [],
   "source": [
    "rnames <- c(\"MT007544 25/01/20 AU\",\n",
    "            \"MT039890 01/20 KR\",\n",
    "            \"MN988713 21/01/20 USA IL\",\n",
    "            \"MT291832 25/01/20 CN BJ\",\n",
    "            \"MN985325 19/01/20 USA WA\",\n",
    "            \"MN938384 10/01/20 CN SZ\",\n",
    "            \"MN997409 22/01/20 USA AZ\",\n",
    "            \"MT291830 30/12/19 CN WHN\",\n",
    "            \"LC529905 01/20 JP\",\n",
    "            \"MT019529 23/12/19 CN WHN\",\n",
    "            \"MN994468 22/01/20 USA CA\",\n",
    "            \"MT072688 13/01/20 NP\",\n",
    "            \"MT039873 20/01/20 CN HNG\",\n",
    "            \"LR757996 01/01/20 CN WHN\",\n",
    "            \"MT192772 22/01/20 VN\",\n",
    "            \"MT192759 25/01/20 TW\")"
   ]
  },
  {
   "cell_type": "code",
   "execution_count": 7,
   "metadata": {},
   "outputs": [
    {
     "data": {
      "image/png": "[encoded data removed]",
      "text/plain": [
       "plot without title"
      ]
     },
     "metadata": {},
     "output_type": "display_data"
    }
   ],
   "source": [
    "fasta_data <- as.matrix(read.fasta(\"common_msa.fasta\"))\n",
    "rownames(fasta_data) <- rnames\n",
    "phy.data <- as.phyDat(as.matrix(fasta_data))\n",
    "tree <- nj(dist.ml(phy.data))\n",
    "ggtree(tree, lwd = 1, color = \"darkgreen\", alpha = 0.8, right = TRUE) +\n",
    "  geom_tiplab(size = 3, angle = 0, offset = 0.05, hjust = 3) +\n",
    "  geom_point(aes(shape = isTip, color = isTip), size = 5, alpha = 0.6)"
   ]
  },
  {
   "cell_type": "markdown",
   "metadata": {},
   "source": [
    "Реализуем функцию, позволяюшую сравнивать поэлементно нуклеотидные последовательности одной длины и возвращающую сходство в виде числа от $0$ до $1$."
   ]
  },
  {
   "cell_type": "code",
   "execution_count": 5,
   "metadata": {},
   "outputs": [],
   "source": [
    "element_wise.compare <- function(seq1,seq2){\n",
    "    mean(strsplit(as.character(seq1),\"\")[[1]] == \n",
    "       strsplit(as.character(seq2),\"\")[[1]])\n",
    "}"
   ]
  },
  {
   "cell_type": "code",
   "execution_count": 50,
   "metadata": {},
   "outputs": [
    {
     "data": {
      "text/html": [
       "0.99933117078554"
      ],
      "text/latex": [
       "0.99933117078554"
      ],
      "text/markdown": [
       "0.99933117078554"
      ],
      "text/plain": [
       "[1] 0.9993312"
      ]
     },
     "metadata": {},
     "output_type": "display_data"
    }
   ],
   "source": [
    "element_wise.compare(DNAseq1, DNAseq2)"
   ]
  },
  {
   "cell_type": "markdown",
   "metadata": {},
   "source": [
    "Рассмотрим популярную теорию заговора о том, что коронавирус `SARS-CoV-2` создан искусственно, и постараемся ее опровергнуть.\n",
    "\n",
    "**Гипотеза** $H_0$ `SARS-CoV-2` - это вирус, созданный искусственно и затем мутировавший.\n",
    "\n",
    "**Гипотеза** $H_{0.1}$ `SARS-CoV-2` - это сбежавший (или выпущенный) из лаборатории Института вирусологии Уханя вирус `SHC014-MA15`, который был там создан путем замены гена, кодирующего шиповидный белок вируса `SARS Coronavirus MA15`, на аналогичный ген из `RsSHC014-COV`.\n",
    "\n",
    "Для начала воспроизведем [исследование, описанное Александром Панчиным](https://vk.com/scinquisitor?w=wall187756_253565)."
   ]
  },
  {
   "cell_type": "markdown",
   "metadata": {},
   "source": [
    "### Воспроизведение исследования А. Панчина."
   ]
  },
  {
   "cell_type": "markdown",
   "metadata": {},
   "source": [
    "В данной части исследования рассматриваются вирусы: `SARS Coronavirus MA15` (штамм JF292920), `RaTG13` (эти два взяты у летучих мышей в 2014 и 2013 годах соответственно), `RsSHC014-COV` и современный `COVID-19` (я рассмотрел штамм `MT019529`, один из самых ранних найденных в Ухани в декабре 2019 г.)\n",
    "\n",
    "У них будем сравнивать шиповидный белок и полипротеин `1ab` (у некоторых вирусов он называется `1ab`, у других - `orf1ab`, но это разновидности одного и того же протеина. С шиповидном белком то же самое: есть названия `spike protein`, `surface glycoprotein`, `spike_glycoprotein_precursor`)."
   ]
  },
  {
   "cell_type": "markdown",
   "metadata": {},
   "source": [
    "У искусственно созданного `SHC014-MA15`, согласно статье 2015 года, с вирусом `RsSHC014-COV` совпадает шиповидный белок, а с вирусом `SARS Coronavirus MA15` - полипротеин `1ab` (и, видимо, весь геном кроме шиповидного белка)."
   ]
  },
  {
   "cell_type": "markdown",
   "metadata": {},
   "source": [
    "#### 1."
   ]
  },
  {
   "cell_type": "markdown",
   "metadata": {},
   "source": [
    "В исследовании говорится:\n",
    "\n",
    "\"Из всех известных вирусов наиболее родственный по этому полипротеину коронавирус из летучий мыши – `RaTG13` ($98.53\\% $ сходства). Полипротеин `1ab` из коронавируса `MA15` имеет лишь $86.03\\%$ сходства\". Сравним эти полипротеины самостоятельно."
   ]
  },
  {
   "cell_type": "code",
   "execution_count": 79,
   "metadata": {},
   "outputs": [],
   "source": [
    "COVID_19.1ab <- read.fasta(\"MT019529_polyprotein_orf1ab.fasta\")\n",
    "RaTG13.1ab <- read.fasta(\"RaTG13_polyprotein_orf1ab.fasta\")\n",
    "MA15.1ab <- read.fasta(\"MA15_polyprotein_orf1ab.fasta\")\n",
    "RsSHC014.1ab <- read.fasta(\"RsSHC014_1ab.fasta\")"
   ]
  },
  {
   "cell_type": "code",
   "execution_count": 80,
   "metadata": {},
   "outputs": [
    {
     "data": {
      "text/plain": [
       "  A AAStringSet instance of length 4\n",
       "    width seq                                               names               \n",
       "[1]  7096 MESLVPGFNEKTHVQLSLPVLQV...SKGRLIIRENNRVVISSDVLVNN QHU36823.1 orf1ab...\n",
       "[2]  7095 MESLVPGFNEKTHVQLSLPVLQV...SKGRLIIRENNRVVISSDVLVNN QHR63299.1 orf1ab...\n",
       "[3]  7073 MESLVLGVNEKTHVQLSLPVLQV...EKGRLIIRENNRVVVSSDILVNN AEA10982.1 polypr...\n",
       "[4]  7073 MESLVLGVNEKTHVQLSLPVLQV...EKGRLIIRESNKVVVSSDILVNI AGZ48805.1 non-st..."
      ]
     },
     "metadata": {},
     "output_type": "display_data"
    }
   ],
   "source": [
    "string.set <- AAStringSet(c(toupper(aa2char(COVID_19.1ab)),\n",
    "                     toupper(aa2char(RaTG13.1ab)),\n",
    "                     toupper(aa2char(MA15.1ab)),\n",
    "                     toupper(aa2char(RsSHC014.1ab))))\n",
    "string.set"
   ]
  },
  {
   "cell_type": "markdown",
   "metadata": {},
   "source": [
    "Выравнивание:"
   ]
  },
  {
   "cell_type": "code",
   "execution_count": 81,
   "metadata": {},
   "outputs": [
    {
     "name": "stdout",
     "output_type": "stream",
     "text": [
      "use default substitution matrix\n"
     ]
    },
    {
     "data": {
      "text/plain": [
       "  A AAStringSet instance of length 4\n",
       "    width seq                                               names               \n",
       "[1]  7100 MESLVPGFNEKTHVQLSLPVLQV...SKGRLIIRENNRVVISSDVLVNN QHU36823.1 orf1ab...\n",
       "[2]  7100 MESLVPGFNEKTHVQLSLPVLQV...SKGRLIIRENNRVVISSDVLVNN QHR63299.1 orf1ab...\n",
       "[3]  7100 MESLVLGVNEKTHVQLSLPVLQV...EKGRLIIRENNRVVVSSDILVNN AEA10982.1 polypr...\n",
       "[4]  7100 MESLVLGVNEKTHVQLSLPVLQV...EKGRLIIRESNKVVVSSDILVNI AGZ48805.1 non-st..."
      ]
     },
     "metadata": {},
     "output_type": "display_data"
    }
   ],
   "source": [
    "string.set <- AAStringSet(msa(string.set))\n",
    "string.set"
   ]
  },
  {
   "cell_type": "code",
   "execution_count": 82,
   "metadata": {},
   "outputs": [
    {
     "data": {
      "text/html": [
       "'Сходство полипротеина 1ab для COVID-19 и RaTG13:'"
      ],
      "text/latex": [
       "'Сходство полипротеина 1ab для COVID-19 и RaTG13:'"
      ],
      "text/markdown": [
       "'Сходство полипротеина 1ab для COVID-19 и RaTG13:'"
      ],
      "text/plain": [
       "[1] \"Сходство полипротеина 1ab для COVID-19 и RaTG13:\""
      ]
     },
     "metadata": {},
     "output_type": "display_data"
    },
    {
     "data": {
      "text/html": [
       "0.985211267605634"
      ],
      "text/latex": [
       "0.985211267605634"
      ],
      "text/markdown": [
       "0.985211267605634"
      ],
      "text/plain": [
       "[1] 0.9852113"
      ]
     },
     "metadata": {},
     "output_type": "display_data"
    },
    {
     "data": {
      "text/html": [
       "'Сходство полипротеина 1ab для COVID-19 и MA15:'"
      ],
      "text/latex": [
       "'Сходство полипротеина 1ab для COVID-19 и MA15:'"
      ],
      "text/markdown": [
       "'Сходство полипротеина 1ab для COVID-19 и MA15:'"
      ],
      "text/plain": [
       "[1] \"Сходство полипротеина 1ab для COVID-19 и MA15:\""
      ]
     },
     "metadata": {},
     "output_type": "display_data"
    },
    {
     "data": {
      "text/html": [
       "0.860422535211268"
      ],
      "text/latex": [
       "0.860422535211268"
      ],
      "text/markdown": [
       "0.860422535211268"
      ],
      "text/plain": [
       "[1] 0.8604225"
      ]
     },
     "metadata": {},
     "output_type": "display_data"
    },
    {
     "data": {
      "text/html": [
       "'Сходство полипротеина 1ab для COVID-19 и RsSHC014:'"
      ],
      "text/latex": [
       "'Сходство полипротеина 1ab для COVID-19 и RsSHC014:'"
      ],
      "text/markdown": [
       "'Сходство полипротеина 1ab для COVID-19 и RsSHC014:'"
      ],
      "text/plain": [
       "[1] \"Сходство полипротеина 1ab для COVID-19 и RsSHC014:\""
      ]
     },
     "metadata": {},
     "output_type": "display_data"
    },
    {
     "data": {
      "text/html": [
       "0.86056338028169"
      ],
      "text/latex": [
       "0.86056338028169"
      ],
      "text/markdown": [
       "0.86056338028169"
      ],
      "text/plain": [
       "[1] 0.8605634"
      ]
     },
     "metadata": {},
     "output_type": "display_data"
    },
    {
     "data": {
      "text/html": [
       "'Сходство полипротеина 1ab для RaTG13 и MA15:'"
      ],
      "text/latex": [
       "'Сходство полипротеина 1ab для RaTG13 и MA15:'"
      ],
      "text/markdown": [
       "'Сходство полипротеина 1ab для RaTG13 и MA15:'"
      ],
      "text/plain": [
       "[1] \"Сходство полипротеина 1ab для RaTG13 и MA15:\""
      ]
     },
     "metadata": {},
     "output_type": "display_data"
    },
    {
     "data": {
      "text/html": [
       "0.859577464788732"
      ],
      "text/latex": [
       "0.859577464788732"
      ],
      "text/markdown": [
       "0.859577464788732"
      ],
      "text/plain": [
       "[1] 0.8595775"
      ]
     },
     "metadata": {},
     "output_type": "display_data"
    },
    {
     "data": {
      "text/html": [
       "'Сходство полипротеина 1ab для MA15 и RsSHC014:'"
      ],
      "text/latex": [
       "'Сходство полипротеина 1ab для MA15 и RsSHC014:'"
      ],
      "text/markdown": [
       "'Сходство полипротеина 1ab для MA15 и RsSHC014:'"
      ],
      "text/plain": [
       "[1] \"Сходство полипротеина 1ab для MA15 и RsSHC014:\""
      ]
     },
     "metadata": {},
     "output_type": "display_data"
    },
    {
     "data": {
      "text/html": [
       "0.859295774647887"
      ],
      "text/latex": [
       "0.859295774647887"
      ],
      "text/markdown": [
       "0.859295774647887"
      ],
      "text/plain": [
       "[1] 0.8592958"
      ]
     },
     "metadata": {},
     "output_type": "display_data"
    },
    {
     "data": {
      "text/html": [
       "'Сходство полипротеина 1ab для MA15 и RsSHC014:'"
      ],
      "text/latex": [
       "'Сходство полипротеина 1ab для MA15 и RsSHC014:'"
      ],
      "text/markdown": [
       "'Сходство полипротеина 1ab для MA15 и RsSHC014:'"
      ],
      "text/plain": [
       "[1] \"Сходство полипротеина 1ab для MA15 и RsSHC014:\""
      ]
     },
     "metadata": {},
     "output_type": "display_data"
    },
    {
     "data": {
      "text/html": [
       "0.984507042253521"
      ],
      "text/latex": [
       "0.984507042253521"
      ],
      "text/markdown": [
       "0.984507042253521"
      ],
      "text/plain": [
       "[1] 0.984507"
      ]
     },
     "metadata": {},
     "output_type": "display_data"
    }
   ],
   "source": [
    "\"Сходство полипротеина 1ab для COVID-19 и RaTG13:\"\n",
    "element_wise.compare(string.set[1],string.set[2])\n",
    "\"Сходство полипротеина 1ab для COVID-19 и MA15:\"\n",
    "element_wise.compare(string.set[1],string.set[3])\n",
    "\"Сходство полипротеина 1ab для COVID-19 и RsSHC014:\"\n",
    "element_wise.compare(string.set[1],string.set[4])\n",
    "\"Сходство полипротеина 1ab для RaTG13 и MA15:\"\n",
    "element_wise.compare(string.set[2],string.set[3])\n",
    "\"Сходство полипротеина 1ab для MA15 и RsSHC014:\"\n",
    "element_wise.compare(string.set[2],string.set[4])\n",
    "\"Сходство полипротеина 1ab для MA15 и RsSHC014:\"\n",
    "element_wise.compare(string.set[3],string.set[4])"
   ]
  },
  {
   "cell_type": "markdown",
   "metadata": {},
   "source": [
    "Сходство действительно такое, как заявлено в статье (числа отличаются в пределах $0.01\\%$, но, видимо, я и А. Панчин просто рассмотрели разные штаммы `COVID-19`, которые многочисленны, но очень похожи между собой с точки зрения конкретных протеинов, в т.ч. `1ab`.)"
   ]
  },
  {
   "cell_type": "markdown",
   "metadata": {},
   "source": [
    "Таким образом, ген, отвечающий протеину `1ab`, у вируса `SARS Coronavirus MA15` (а значит, и у созданного на его основе вируса `SHC014-MA15`) гораздо сильнее отличается от современного `COVID-19`, чем у `RsSHC014-COV`, взятого у летучих мышей не позднее 2014 года."
   ]
  },
  {
   "cell_type": "markdown",
   "metadata": {},
   "source": [
    "#### 2."
   ]
  },
  {
   "cell_type": "markdown",
   "metadata": {},
   "source": [
    "Теперь воспроизведем анализ для шиповидного белка."
   ]
  },
  {
   "cell_type": "markdown",
   "metadata": {},
   "source": [
    "\"Шиповидный белок из RsSHC014 имеет лишь $77.31\\%$ сходства с таковым из SARS-CoV-2. Шиповидный белок из Coronavirus MA15 имеет $75.88\\%$ сходства.\"\n",
    "\n",
    "\"А вот наиболее родственный этому белку – его аналог из все того же коронавируса летучей мыши – RaTG13 ($97.41\\%$ сходства).\""
   ]
  },
  {
   "cell_type": "code",
   "execution_count": 72,
   "metadata": {},
   "outputs": [],
   "source": [
    "COVID_19.spike <- read.fasta(\"MT019529_surface_glycoprotein.fasta\")\n",
    "RaTG13.spike <- read.fasta(\"RaTG13_spike_glycoprotein.fasta\")\n",
    "MA15.spike <- read.fasta(\"MA15-COV_spike_glycoprotein_precursor.fasta\")\n",
    "RsSHC014.spike <- read.fasta(\"RsSHC014_spike_protein.fasta\")"
   ]
  },
  {
   "cell_type": "code",
   "execution_count": 74,
   "metadata": {},
   "outputs": [
    {
     "data": {
      "text/plain": [
       "  A AAStringSet instance of length 4\n",
       "    width seq                                               names               \n",
       "[1]  1273 MFVFLVLLPLVSSQCVNLTTRTQ...GSCCKFDEDDSEPVLKGVKLHYT QHU36824.1 surfac...\n",
       "[2]  1269 MFVFLVLLPLVSSQCVNLTTRTQ...GSCCKFDEDDSEPVLKGVKLHYT QHR63300.2 spike ...\n",
       "[3]  1255 MFIFLLFLTLTSGSDLDRCTTFD...GSCCKFDEDDSEPVLKGVKLHYT AEA10983.1 spike ...\n",
       "[4]  1256 MKLLVLVFATLVSSYTIEKCLDF...GSCCKFDEDDSEPVLKGVKLHYT AGZ48806.1 spike ..."
      ]
     },
     "metadata": {},
     "output_type": "display_data"
    }
   ],
   "source": [
    "string.set <- AAStringSet(c(toupper(aa2char(COVID_19.spike)),\n",
    "                     toupper(aa2char(RaTG13.spike)),\n",
    "                     toupper(aa2char(MA15.spike)),\n",
    "                     toupper(aa2char(RsSHC014.spike))))\n",
    "string.set"
   ]
  },
  {
   "cell_type": "code",
   "execution_count": 75,
   "metadata": {},
   "outputs": [
    {
     "name": "stdout",
     "output_type": "stream",
     "text": [
      "use default substitution matrix\n"
     ]
    },
    {
     "data": {
      "text/plain": [
       "  A AAStringSet instance of length 4\n",
       "    width seq                                               names               \n",
       "[1]  1278 -MFIFLLFLTLTSGSDLDRCTTF...GSCCKFDEDDSEPVLKGVKLHYT AEA10983.1 spike ...\n",
       "[2]  1278 MKLLVLVFATLVSSYTIEKCLDF...GSCCKFDEDDSEPVLKGVKLHYT AGZ48806.1 spike ...\n",
       "[3]  1278 -MFVFLVLLPLVSS----QCVNL...GSCCKFDEDDSEPVLKGVKLHYT QHU36824.1 surfac...\n",
       "[4]  1278 -MFVFLVLLPLVSS----QCVNL...GSCCKFDEDDSEPVLKGVKLHYT QHR63300.2 spike ..."
      ]
     },
     "metadata": {},
     "output_type": "display_data"
    }
   ],
   "source": [
    "string.set <- AAStringSet(msa(string.set))\n",
    "string.set"
   ]
  },
  {
   "cell_type": "code",
   "execution_count": 77,
   "metadata": {},
   "outputs": [
    {
     "data": {
      "text/html": [
       "'Сходство шиповидного белка для COVID-19 и RaTG13:'"
      ],
      "text/latex": [
       "'Сходство шиповидного белка для COVID-19 и RaTG13:'"
      ],
      "text/markdown": [
       "'Сходство шиповидного белка для COVID-19 и RaTG13:'"
      ],
      "text/plain": [
       "[1] \"Сходство шиповидного белка для COVID-19 и RaTG13:\""
      ]
     },
     "metadata": {},
     "output_type": "display_data"
    },
    {
     "data": {
      "text/html": [
       "0.900625978090767"
      ],
      "text/latex": [
       "0.900625978090767"
      ],
      "text/markdown": [
       "0.900625978090767"
      ],
      "text/plain": [
       "[1] 0.900626"
      ]
     },
     "metadata": {},
     "output_type": "display_data"
    },
    {
     "data": {
      "text/html": [
       "'Сходство шиповидного белка для COVID-19 и MA15:'"
      ],
      "text/latex": [
       "'Сходство шиповидного белка для COVID-19 и MA15:'"
      ],
      "text/markdown": [
       "'Сходство шиповидного белка для COVID-19 и MA15:'"
      ],
      "text/plain": [
       "[1] \"Сходство шиповидного белка для COVID-19 и MA15:\""
      ]
     },
     "metadata": {},
     "output_type": "display_data"
    },
    {
     "data": {
      "text/html": [
       "0.756651017214398"
      ],
      "text/latex": [
       "0.756651017214398"
      ],
      "text/markdown": [
       "0.756651017214398"
      ],
      "text/plain": [
       "[1] 0.756651"
      ]
     },
     "metadata": {},
     "output_type": "display_data"
    },
    {
     "data": {
      "text/html": [
       "'Сходство шиповидного белка для COVID-19 и RsSHC014:'"
      ],
      "text/latex": [
       "'Сходство шиповидного белка для COVID-19 и RsSHC014:'"
      ],
      "text/markdown": [
       "'Сходство шиповидного белка для COVID-19 и RsSHC014:'"
      ],
      "text/plain": [
       "[1] \"Сходство шиповидного белка для COVID-19 и RsSHC014:\""
      ]
     },
     "metadata": {},
     "output_type": "display_data"
    },
    {
     "data": {
      "text/html": [
       "0.764475743348983"
      ],
      "text/latex": [
       "0.764475743348983"
      ],
      "text/markdown": [
       "0.764475743348983"
      ],
      "text/plain": [
       "[1] 0.7644757"
      ]
     },
     "metadata": {},
     "output_type": "display_data"
    },
    {
     "data": {
      "text/html": [
       "'Сходство шиповидного белка для RaTG13 и MA15:'"
      ],
      "text/latex": [
       "'Сходство шиповидного белка для RaTG13 и MA15:'"
      ],
      "text/markdown": [
       "'Сходство шиповидного белка для RaTG13 и MA15:'"
      ],
      "text/plain": [
       "[1] \"Сходство шиповидного белка для RaTG13 и MA15:\""
      ]
     },
     "metadata": {},
     "output_type": "display_data"
    },
    {
     "data": {
      "text/html": [
       "0.766823161189358"
      ],
      "text/latex": [
       "0.766823161189358"
      ],
      "text/markdown": [
       "0.766823161189358"
      ],
      "text/plain": [
       "[1] 0.7668232"
      ]
     },
     "metadata": {},
     "output_type": "display_data"
    },
    {
     "data": {
      "text/html": [
       "'Сходство шиповидного белка для MA15 и RsSHC014:'"
      ],
      "text/latex": [
       "'Сходство шиповидного белка для MA15 и RsSHC014:'"
      ],
      "text/markdown": [
       "'Сходство шиповидного белка для MA15 и RsSHC014:'"
      ],
      "text/plain": [
       "[1] \"Сходство шиповидного белка для MA15 и RsSHC014:\""
      ]
     },
     "metadata": {},
     "output_type": "display_data"
    },
    {
     "data": {
      "text/html": [
       "0.770735524256651"
      ],
      "text/latex": [
       "0.770735524256651"
      ],
      "text/markdown": [
       "0.770735524256651"
      ],
      "text/plain": [
       "[1] 0.7707355"
      ]
     },
     "metadata": {},
     "output_type": "display_data"
    },
    {
     "data": {
      "text/html": [
       "'Сходство шиповидного белка для MA15 и RsSHC014:'"
      ],
      "text/latex": [
       "'Сходство шиповидного белка для MA15 и RsSHC014:'"
      ],
      "text/markdown": [
       "'Сходство шиповидного белка для MA15 и RsSHC014:'"
      ],
      "text/plain": [
       "[1] \"Сходство шиповидного белка для MA15 и RsSHC014:\""
      ]
     },
     "metadata": {},
     "output_type": "display_data"
    },
    {
     "data": {
      "text/html": [
       "0.974178403755869"
      ],
      "text/latex": [
       "0.974178403755869"
      ],
      "text/markdown": [
       "0.974178403755869"
      ],
      "text/plain": [
       "[1] 0.9741784"
      ]
     },
     "metadata": {},
     "output_type": "display_data"
    }
   ],
   "source": [
    "\"Сходство шиповидного белка для COVID-19 и RaTG13:\"\n",
    "element_wise.compare(string.set[1],string.set[2])\n",
    "\"Сходство шиповидного белка для COVID-19 и MA15:\"\n",
    "element_wise.compare(string.set[1],string.set[3])\n",
    "\"Сходство шиповидного белка для COVID-19 и RsSHC014:\"\n",
    "element_wise.compare(string.set[1],string.set[4])\n",
    "\"Сходство шиповидного белка для RaTG13 и MA15:\"\n",
    "element_wise.compare(string.set[2],string.set[3])\n",
    "\"Сходство шиповидного белка для MA15 и RsSHC014:\"\n",
    "element_wise.compare(string.set[2],string.set[4])\n",
    "\"Сходство шиповидного белка для MA15 и RsSHC014:\"\n",
    "element_wise.compare(string.set[3],string.set[4])"
   ]
  },
  {
   "cell_type": "markdown",
   "metadata": {},
   "source": [
    "Вывод: расчеты А. Панчина подтвердились, сходство шиповидного белка вирусов `MA15` и `RsSHC014` (следовательно, и `SHC014-MA15`) с современным коронавирусом ($75.66\\%$, $76.44\\%$ соответственно в данном эксперименте) почти такое же, как он пишет ($75.88\\%$, $77.31\\%$), разница связана с выбором конкретных штаммов. Сходство `MA15` и `RsSHC014` в данном эксперименте ($97.41\\%$) и у А. Панчина ($97.41\\%$) также совпало, даже с точностью до сотых процента."
   ]
  },
  {
   "cell_type": "markdown",
   "metadata": {},
   "source": [
    "### Мое добавление к исследованию."
   ]
  },
  {
   "cell_type": "markdown",
   "metadata": {},
   "source": [
    "Сравним не просто белки, а полные геномы рассмотренных вирусов (теперь в формате ДНК):"
   ]
  },
  {
   "cell_type": "code",
   "execution_count": 84,
   "metadata": {},
   "outputs": [],
   "source": [
    "COVID_19 <- read.fasta(\"MT019529_2019_12_23_China_Wuhan.fasta\")\n",
    "RaTG13 <- read.fasta(\"RaTG13.fasta\")\n",
    "MA15 <- read.fasta(\"MA15-COV.fasta\")\n",
    "RsSHC014 <- read.fasta(\"RsSHC014.fasta\")"
   ]
  },
  {
   "cell_type": "code",
   "execution_count": 95,
   "metadata": {},
   "outputs": [
    {
     "data": {
      "text/plain": [
       "  A AAStringSet instance of length 4\n",
       "    width seq                                               names               \n",
       "[1] 29899 ATTAAAGGTTTATACCTTCCCAG...AAAAAAAAAAAAAAAAAAAAAAA MT019529.1 Severe...\n",
       "[2] 29855 CTTTCCAGGTAACAAACCAACGA...GACAAAAAAAAAAAAAAAAAAAA MN996532.1 Bat co...\n",
       "[3] 29646 CGATCTCTTGTAGATCTGTTCTC...TGTGTAAAATTAATTTTAGTAGT JF292920.1 SARS c...\n",
       "[4] 29787 ATATTAGGTTTTTACCTACCCAG...ATGACAAAAAAAAAAAAAAAAAA KC881005.1 Bat SA..."
      ]
     },
     "metadata": {},
     "output_type": "display_data"
    }
   ],
   "source": [
    "string.set <- AAStringSet(c(toupper(dna2char(COVID_19)),\n",
    "                     toupper(dna2char(RaTG13)),\n",
    "                     toupper(dna2char(MA15)),\n",
    "                     toupper(dna2char(RsSHC014))))\n",
    "string.set"
   ]
  },
  {
   "cell_type": "code",
   "execution_count": 96,
   "metadata": {},
   "outputs": [
    {
     "name": "stdout",
     "output_type": "stream",
     "text": [
      "use default substitution matrix\n"
     ]
    },
    {
     "data": {
      "text/plain": [
       "  A AAStringSet instance of length 4\n",
       "    width seq                                               names               \n",
       "[1] 29959 ATTAAAGGTTTATACCTTCCCAG...AAAAAAAAAAAAAAAAAAAAAAA MT019529.1 Severe...\n",
       "[2] 29959 ---------------CTTTCCAG...AAAAAAAAAAAAAA--------- MN996532.1 Bat co...\n",
       "[3] 29959 -----------------------...----------------------- JF292920.1 SARS c...\n",
       "[4] 29959 ATATTAGGTTTTTACCTACCCAG...AAAAAAAAAAAA----------- KC881005.1 Bat SA..."
      ]
     },
     "metadata": {},
     "output_type": "display_data"
    }
   ],
   "source": [
    "string.set <- AAStringSet(msa(string.set))\n",
    "string.set"
   ]
  },
  {
   "cell_type": "code",
   "execution_count": 97,
   "metadata": {},
   "outputs": [
    {
     "data": {
      "text/html": [
       "'Сходство геномов COVID-19 и RaTG13:'"
      ],
      "text/latex": [
       "'Сходство геномов COVID-19 и RaTG13:'"
      ],
      "text/markdown": [
       "'Сходство геномов COVID-19 и RaTG13:'"
      ],
      "text/plain": [
       "[1] \"Сходство геномов COVID-19 и RaTG13:\""
      ]
     },
     "metadata": {},
     "output_type": "display_data"
    },
    {
     "data": {
      "text/html": [
       "0.960312426983544"
      ],
      "text/latex": [
       "0.960312426983544"
      ],
      "text/markdown": [
       "0.960312426983544"
      ],
      "text/plain": [
       "[1] 0.9603124"
      ]
     },
     "metadata": {},
     "output_type": "display_data"
    },
    {
     "data": {
      "text/html": [
       "'Сходство геномов COVID-19 и MA15:'"
      ],
      "text/latex": [
       "'Сходство геномов COVID-19 и MA15:'"
      ],
      "text/markdown": [
       "'Сходство геномов COVID-19 и MA15:'"
      ],
      "text/plain": [
       "[1] \"Сходство геномов COVID-19 и MA15:\""
      ]
     },
     "metadata": {},
     "output_type": "display_data"
    },
    {
     "data": {
      "text/html": [
       "0.785139690910912"
      ],
      "text/latex": [
       "0.785139690910912"
      ],
      "text/markdown": [
       "0.785139690910912"
      ],
      "text/plain": [
       "[1] 0.7851397"
      ]
     },
     "metadata": {},
     "output_type": "display_data"
    },
    {
     "data": {
      "text/html": [
       "'Сходство геномов COVID-19 и RsSHC014:'"
      ],
      "text/latex": [
       "'Сходство геномов COVID-19 и RsSHC014:'"
      ],
      "text/markdown": [
       "'Сходство геномов COVID-19 и RsSHC014:'"
      ],
      "text/plain": [
       "[1] \"Сходство геномов COVID-19 и RsSHC014:\""
      ]
     },
     "metadata": {},
     "output_type": "display_data"
    },
    {
     "data": {
      "text/html": [
       "0.789979638839748"
      ],
      "text/latex": [
       "0.789979638839748"
      ],
      "text/markdown": [
       "0.789979638839748"
      ],
      "text/plain": [
       "[1] 0.7899796"
      ]
     },
     "metadata": {},
     "output_type": "display_data"
    },
    {
     "data": {
      "text/html": [
       "'Сходство геномов RaTG13 и MA15:'"
      ],
      "text/latex": [
       "'Сходство геномов RaTG13 и MA15:'"
      ],
      "text/markdown": [
       "'Сходство геномов RaTG13 и MA15:'"
      ],
      "text/plain": [
       "[1] \"Сходство геномов RaTG13 и MA15:\""
      ]
     },
     "metadata": {},
     "output_type": "display_data"
    },
    {
     "data": {
      "text/html": [
       "0.784739143496111"
      ],
      "text/latex": [
       "0.784739143496111"
      ],
      "text/markdown": [
       "0.784739143496111"
      ],
      "text/plain": [
       "[1] 0.7847391"
      ]
     },
     "metadata": {},
     "output_type": "display_data"
    },
    {
     "data": {
      "text/html": [
       "'Сходство геномов MA15 и RsSHC014:'"
      ],
      "text/latex": [
       "'Сходство геномов MA15 и RsSHC014:'"
      ],
      "text/markdown": [
       "'Сходство геномов MA15 и RsSHC014:'"
      ],
      "text/plain": [
       "[1] \"Сходство геномов MA15 и RsSHC014:\""
      ]
     },
     "metadata": {},
     "output_type": "display_data"
    },
    {
     "data": {
      "text/html": [
       "0.789178544010147"
      ],
      "text/latex": [
       "0.789178544010147"
      ],
      "text/markdown": [
       "0.789178544010147"
      ],
      "text/plain": [
       "[1] 0.7891785"
      ]
     },
     "metadata": {},
     "output_type": "display_data"
    },
    {
     "data": {
      "text/html": [
       "'Сходство геномов MA15 и RsSHC014:'"
      ],
      "text/latex": [
       "'Сходство геномов MA15 и RsSHC014:'"
      ],
      "text/markdown": [
       "'Сходство геномов MA15 и RsSHC014:'"
      ],
      "text/plain": [
       "[1] \"Сходство геномов MA15 и RsSHC014:\""
      ]
     },
     "metadata": {},
     "output_type": "display_data"
    },
    {
     "data": {
      "text/html": [
       "0.948129109783371"
      ],
      "text/latex": [
       "0.948129109783371"
      ],
      "text/markdown": [
       "0.948129109783371"
      ],
      "text/plain": [
       "[1] 0.9481291"
      ]
     },
     "metadata": {},
     "output_type": "display_data"
    }
   ],
   "source": [
    "\"Сходство геномов COVID-19 и RaTG13:\"\n",
    "element_wise.compare(string.set[1],string.set[2])\n",
    "\"Сходство геномов COVID-19 и MA15:\"\n",
    "element_wise.compare(string.set[1],string.set[3])\n",
    "\"Сходство геномов COVID-19 и RsSHC014:\"\n",
    "element_wise.compare(string.set[1],string.set[4])\n",
    "\"Сходство геномов RaTG13 и MA15:\"\n",
    "element_wise.compare(string.set[2],string.set[3])\n",
    "\"Сходство геномов MA15 и RsSHC014:\"\n",
    "element_wise.compare(string.set[2],string.set[4])\n",
    "\"Сходство геномов MA15 и RsSHC014:\"\n",
    "element_wise.compare(string.set[3],string.set[4])"
   ]
  },
  {
   "cell_type": "markdown",
   "metadata": {},
   "source": [
    "`COVID-19` отличается от `MA15`, и от `RsSHC014` гораздо сильнее, чем от `RaTG13`."
   ]
  },
  {
   "cell_type": "markdown",
   "metadata": {},
   "source": [
    "Это согласуется со следующим:\n",
    "\n",
    "1. Из рассмотренных геномов `COVID-19` наиболее похож на `RaTG13`. Он сильно отличается и от `MA15`, и от `RsSHC014`, и от искусственно созданного их \"гибрида\" - `SHC014-MA15`.\n",
    "\n",
    "2. Поэтому `COVID-19`, скорее всего, мутировал из вирусов летучих мышей, встречающихся в естесственных условиях (вероятно, из родственника `RaTG13`). У него было много времени для этого (более 5 лет), поэтому гипотеза о его лабораторном происхождении (необязательно от `SHC014-MA15`) с достаточно большой степенью уверенности отвергается."
   ]
  }
 ],
 "metadata": {
  "kernelspec": {
   "display_name": "R",
   "language": "R",
   "name": "ir"
  },
  "language_info": {
   "codemirror_mode": "r",
   "file_extension": ".r",
   "mimetype": "text/x-r-source",
   "name": "R",
   "pygments_lexer": "r",
   "version": "3.6.2"
  }
 },
 "nbformat": 4,
 "nbformat_minor": 2
}
